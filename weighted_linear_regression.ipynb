{
 "cells": [
  {
   "cell_type": "code",
   "execution_count": 7,
   "metadata": {},
   "outputs": [
    {
     "name": "stdout",
     "output_type": "stream",
     "text": [
      "55233\n",
      "          MP     PTS   Age  games_started   PER    AST    STL    TRB     3P\n",
      "4255  2717.0  1136.0  28.0           78.0  16.5  514.0  118.0  279.0  139.0\n",
      "5301  2319.0  1107.0  22.0           60.0  19.8   88.0   48.0  756.0    0.0\n",
      "7240   464.0   163.0  23.0            0.0  10.1    9.0    8.0  101.0    0.0\n",
      "1664    35.0    10.0  28.0            0.0   8.3    0.0    0.0    8.0    0.0\n",
      "4147  2304.0  1054.0  25.0           25.0  18.9  166.0   32.0  616.0   17.0\n",
      "[[2717.  1136.    28.    78.    16.5  514.   118.   279.   139. ]\n",
      " [2319.  1107.    22.    60.    19.8   88.    48.   756.     0. ]\n",
      " [ 464.   163.    23.     0.    10.1    9.     8.   101.     0. ]\n",
      " [  35.    10.    28.     0.     8.3    0.     0.     8.     0. ]\n",
      " [2304.  1054.    25.    25.    18.9  166.    32.   616.    17. ]]\n",
      "55233\n"
     ]
    },
    {
     "name": "stderr",
     "output_type": "stream",
     "text": [
      "C:\\Users\\mmart\\AppData\\Local\\Temp\\ipykernel_29632\\407738190.py:7: MatplotlibDeprecationWarning: The seaborn styles shipped by Matplotlib are deprecated since 3.6, as they no longer correspond to the styles shipped by seaborn. However, they will remain available as 'seaborn-v0_8-<style>'. Alternatively, directly use the seaborn API instead.\n",
      "  plt.style.use(\"seaborn\")\n",
      "c:\\Users\\mmart\\Programming\\EECS545\\project\\EECS-545---Predicting-NBA-Player-s-Salary\\common.py:7: FutureWarning: The default value of regex will change from True to False in a future version. In addition, single character regular expressions will *not* be treated as literal strings when regex=True.\n",
      "  nba['inflationAdjSalary'] = nba['inflationAdjSalary'].str.replace('$', '')\n",
      "c:\\Users\\mmart\\Programming\\EECS545\\project\\EECS-545---Predicting-NBA-Player-s-Salary\\common.py:7: SettingWithCopyWarning: \n",
      "A value is trying to be set on a copy of a slice from a DataFrame.\n",
      "Try using .loc[row_indexer,col_indexer] = value instead\n",
      "\n",
      "See the caveats in the documentation: https://pandas.pydata.org/pandas-docs/stable/user_guide/indexing.html#returning-a-view-versus-a-copy\n",
      "  nba['inflationAdjSalary'] = nba['inflationAdjSalary'].str.replace('$', '')\n",
      "c:\\Users\\mmart\\Programming\\EECS545\\project\\EECS-545---Predicting-NBA-Player-s-Salary\\common.py:8: SettingWithCopyWarning: \n",
      "A value is trying to be set on a copy of a slice from a DataFrame.\n",
      "Try using .loc[row_indexer,col_indexer] = value instead\n",
      "\n",
      "See the caveats in the documentation: https://pandas.pydata.org/pandas-docs/stable/user_guide/indexing.html#returning-a-view-versus-a-copy\n",
      "  nba['inflationAdjSalary'] = nba['inflationAdjSalary'].str.replace(',', '')\n",
      "c:\\Users\\mmart\\Programming\\EECS545\\project\\EECS-545---Predicting-NBA-Player-s-Salary\\common.py:9: SettingWithCopyWarning: \n",
      "A value is trying to be set on a copy of a slice from a DataFrame.\n",
      "Try using .loc[row_indexer,col_indexer] = value instead\n",
      "\n",
      "See the caveats in the documentation: https://pandas.pydata.org/pandas-docs/stable/user_guide/indexing.html#returning-a-view-versus-a-copy\n",
      "  nba['inflationAdjSalary'] = nba['inflationAdjSalary'].astype(int)\n",
      "c:\\Users\\mmart\\Programming\\EECS545\\project\\EECS-545---Predicting-NBA-Player-s-Salary\\common.py:10: SettingWithCopyWarning: \n",
      "A value is trying to be set on a copy of a slice from a DataFrame.\n",
      "Try using .loc[row_indexer,col_indexer] = value instead\n",
      "\n",
      "See the caveats in the documentation: https://pandas.pydata.org/pandas-docs/stable/user_guide/indexing.html#returning-a-view-versus-a-copy\n",
      "  nba['inflationAdjSalary_log'] = nba['inflationAdjSalary'].apply(lambda x: np.log(x))\n"
     ]
    },
    {
     "ename": "TypeError",
     "evalue": "'int' object is not subscriptable",
     "output_type": "error",
     "traceback": [
      "\u001b[1;31m---------------------------------------------------------------------------\u001b[0m",
      "\u001b[1;31mTypeError\u001b[0m                                 Traceback (most recent call last)",
      "Cell \u001b[1;32mIn[7], line 24\u001b[0m\n\u001b[0;32m     22\u001b[0m y_test \u001b[39m=\u001b[39m np\u001b[39m.\u001b[39mmat(y_test)\n\u001b[0;32m     23\u001b[0m x_test \u001b[39m=\u001b[39m np\u001b[39m.\u001b[39mmat(x_test)\n\u001b[1;32m---> 24\u001b[0m X_train \u001b[39m=\u001b[39m generate_polynomial_features(x_train, M\u001b[39m=\u001b[39mx_train\u001b[39m.\u001b[39;49msize[\u001b[39m1\u001b[39;49m])\n\u001b[0;32m     26\u001b[0m \u001b[39m# # Scatter plot of data\u001b[39;00m\n\u001b[0;32m     27\u001b[0m fig, ax \u001b[39m=\u001b[39m plt\u001b[39m.\u001b[39msubplots(figsize\u001b[39m=\u001b[39m(\u001b[39m10\u001b[39m, \u001b[39m7\u001b[39m))\n",
      "\u001b[1;31mTypeError\u001b[0m: 'int' object is not subscriptable"
     ]
    }
   ],
   "source": [
    "\n",
    "import numpy as np\n",
    "import matplotlib.pyplot as plt\n",
    "import pandas as pd\n",
    "from common import *\n",
    "import statsmodels.api as sm\n",
    "\n",
    "plt.style.use(\"seaborn\")\n",
    "\n",
    "# Loading CSV files from local storage\n",
    "nba = get_baseline_data('cleaned.csv')\n",
    "X = nba[['MP', 'PTS', 'Age', 'games_started', 'PER', 'AST', 'STL', 'TRB', '3P']]\n",
    "y = nba[['inflationAdjSalary_log']]\n",
    "\n",
    "from sklearn.model_selection import train_test_split\n",
    "x_train, x_test, y_train, y_test = train_test_split(X, y, test_size = 0.2, random_state = 0)\n",
    "print(x_train.size)\n",
    "print(x_train.head())\n",
    "x_train = x_train.to_numpy()\n",
    "print(x_train[:5,:])\n",
    "print(x_train.size)\n",
    "y_train = np.mat(y_train)\n",
    "y_test = np.mat(y_test)\n",
    "x_test = np.mat(x_test)\n",
    "X_train = generate_polynomial_features(x_train, M=x_train.size[1])\n",
    "\n",
    "# # Scatter plot of data\n",
    "fig, ax = plt.subplots(figsize=(10, 7))\n",
    "\n",
    "# ax.set_title(\"Locally weighted linear regression\")\n",
    "# ax.set(xlabel='x', ylabel='y')\n",
    "# ax.scatter(x_train, y_train, marker='.', c='black')\n",
    "\n",
    "#\n",
    "# The ordinary linear regression\n",
    "# #\n",
    "# w_linear = closed_form(X_train, y_train)\n",
    "\n",
    "# x_space = np.linspace(x_train.min(), x_train.max(), num=50)\n",
    "# ax.plot(x_space,\n",
    "#         x_space * w_linear[1] + w_linear[0],\n",
    "#         c='gray', linestyle='--', label='linear', linewidth=3)\n",
    "\n",
    "#\n",
    "# Locally-weighted linear regression\n",
    "#\\\n",
    "def gen_r_train (qp, x, tau) :\n",
    "    res = np.zeros(x.shape[0])\n",
    "    for i in range(0, x.shape[0]) :\n",
    "        ri = np.exp((qp - x[i])**2/(-2*tau**2))\n",
    "        res[i] = ri\n",
    "    return res\n",
    "\n",
    "taus = [0.1, 0.3, 0.8, 2.0, 10.0]\n",
    "colors = ['red', 'orange', 'green', 'blue', 'magenta']\n",
    "for color, tau in zip(colors, taus):\n",
    "\n",
    "    #############################################################################\n",
    "    # TODO: Implement the plot for 2(g)\n",
    "    #############################################################################\n",
    "    y_space = []\n",
    "\n",
    "    for qp in x_test :\n",
    "        r_train = gen_r_train(qp, x_train, tau)\n",
    "        w_linear_c = closed_form_locally_weighted(X_train, y_train, r_train)\n",
    "        y_space.append(qp* w_linear_c[1] + w_linear_c[0])\n",
    "\n",
    "    #############################################################################\n",
    "    #                          END OF YOUR CODE                                 #\n",
    "    #############################################################################\n",
    "\n",
    "    ax.plot(y_test, y_space - y_test,\n",
    "            c=color, label=f'tau={tau}', linewidth=2)\n",
    "\n",
    "ax.legend()\n",
    "ax.grid()\n",
    "plt.show()"
   ]
  },
  {
   "cell_type": "code",
   "execution_count": 7,
   "metadata": {},
   "outputs": [
    {
     "name": "stdout",
     "output_type": "stream",
     "text": [
      "55233\n",
      "6137\n"
     ]
    },
    {
     "ename": "ValueError",
     "evalue": "x and y must be the same size",
     "output_type": "error",
     "traceback": [
      "\u001b[1;31m---------------------------------------------------------------------------\u001b[0m",
      "\u001b[1;31mValueError\u001b[0m                                Traceback (most recent call last)",
      "Cell \u001b[1;32mIn[7], line 6\u001b[0m\n\u001b[0;32m      4\u001b[0m vertical_axis \u001b[39m=\u001b[39m np\u001b[39m.\u001b[39marray(Y)\n\u001b[0;32m      5\u001b[0m plt\u001b[39m.\u001b[39mtitle(\u001b[39m\"\u001b[39m\u001b[39mTau / Bandwidth Param \u001b[39m\u001b[39m%.2f\u001b[39;00m\u001b[39m\"\u001b[39m\u001b[39m%\u001b[39m Bandwidth)\n\u001b[1;32m----> 6\u001b[0m plt\u001b[39m.\u001b[39;49mscatter(horizontal_axis, vertical_axis)\n\u001b[0;32m      7\u001b[0m Y_pred \u001b[39m=\u001b[39m np\u001b[39m.\u001b[39marray(y_pred)\n\u001b[0;32m      8\u001b[0m plt\u001b[39m.\u001b[39mscatter(X_test, Y_pred, color \u001b[39m=\u001b[39m\u001b[39m'\u001b[39m\u001b[39mred\u001b[39m\u001b[39m'\u001b[39m)\n",
      "File \u001b[1;32mc:\\Users\\mmart\\Programming\\EECS545\\project\\venv\\lib\\site-packages\\matplotlib\\pyplot.py:2862\u001b[0m, in \u001b[0;36mscatter\u001b[1;34m(x, y, s, c, marker, cmap, norm, vmin, vmax, alpha, linewidths, edgecolors, plotnonfinite, data, **kwargs)\u001b[0m\n\u001b[0;32m   2857\u001b[0m \u001b[39m@_copy_docstring_and_deprecators\u001b[39m(Axes\u001b[39m.\u001b[39mscatter)\n\u001b[0;32m   2858\u001b[0m \u001b[39mdef\u001b[39;00m \u001b[39mscatter\u001b[39m(\n\u001b[0;32m   2859\u001b[0m         x, y, s\u001b[39m=\u001b[39m\u001b[39mNone\u001b[39;00m, c\u001b[39m=\u001b[39m\u001b[39mNone\u001b[39;00m, marker\u001b[39m=\u001b[39m\u001b[39mNone\u001b[39;00m, cmap\u001b[39m=\u001b[39m\u001b[39mNone\u001b[39;00m, norm\u001b[39m=\u001b[39m\u001b[39mNone\u001b[39;00m,\n\u001b[0;32m   2860\u001b[0m         vmin\u001b[39m=\u001b[39m\u001b[39mNone\u001b[39;00m, vmax\u001b[39m=\u001b[39m\u001b[39mNone\u001b[39;00m, alpha\u001b[39m=\u001b[39m\u001b[39mNone\u001b[39;00m, linewidths\u001b[39m=\u001b[39m\u001b[39mNone\u001b[39;00m, \u001b[39m*\u001b[39m,\n\u001b[0;32m   2861\u001b[0m         edgecolors\u001b[39m=\u001b[39m\u001b[39mNone\u001b[39;00m, plotnonfinite\u001b[39m=\u001b[39m\u001b[39mFalse\u001b[39;00m, data\u001b[39m=\u001b[39m\u001b[39mNone\u001b[39;00m, \u001b[39m*\u001b[39m\u001b[39m*\u001b[39mkwargs):\n\u001b[1;32m-> 2862\u001b[0m     __ret \u001b[39m=\u001b[39m gca()\u001b[39m.\u001b[39mscatter(\n\u001b[0;32m   2863\u001b[0m         x, y, s\u001b[39m=\u001b[39ms, c\u001b[39m=\u001b[39mc, marker\u001b[39m=\u001b[39mmarker, cmap\u001b[39m=\u001b[39mcmap, norm\u001b[39m=\u001b[39mnorm,\n\u001b[0;32m   2864\u001b[0m         vmin\u001b[39m=\u001b[39mvmin, vmax\u001b[39m=\u001b[39mvmax, alpha\u001b[39m=\u001b[39malpha, linewidths\u001b[39m=\u001b[39mlinewidths,\n\u001b[0;32m   2865\u001b[0m         edgecolors\u001b[39m=\u001b[39medgecolors, plotnonfinite\u001b[39m=\u001b[39mplotnonfinite,\n\u001b[0;32m   2866\u001b[0m         \u001b[39m*\u001b[39m\u001b[39m*\u001b[39m({\u001b[39m\"\u001b[39m\u001b[39mdata\u001b[39m\u001b[39m\"\u001b[39m: data} \u001b[39mif\u001b[39;00m data \u001b[39mis\u001b[39;00m \u001b[39mnot\u001b[39;00m \u001b[39mNone\u001b[39;00m \u001b[39melse\u001b[39;00m {}), \u001b[39m*\u001b[39m\u001b[39m*\u001b[39mkwargs)\n\u001b[0;32m   2867\u001b[0m     sci(__ret)\n\u001b[0;32m   2868\u001b[0m     \u001b[39mreturn\u001b[39;00m __ret\n",
      "File \u001b[1;32mc:\\Users\\mmart\\Programming\\EECS545\\project\\venv\\lib\\site-packages\\matplotlib\\__init__.py:1459\u001b[0m, in \u001b[0;36m_preprocess_data.<locals>.inner\u001b[1;34m(ax, data, *args, **kwargs)\u001b[0m\n\u001b[0;32m   1456\u001b[0m \u001b[39m@functools\u001b[39m\u001b[39m.\u001b[39mwraps(func)\n\u001b[0;32m   1457\u001b[0m \u001b[39mdef\u001b[39;00m \u001b[39minner\u001b[39m(ax, \u001b[39m*\u001b[39margs, data\u001b[39m=\u001b[39m\u001b[39mNone\u001b[39;00m, \u001b[39m*\u001b[39m\u001b[39m*\u001b[39mkwargs):\n\u001b[0;32m   1458\u001b[0m     \u001b[39mif\u001b[39;00m data \u001b[39mis\u001b[39;00m \u001b[39mNone\u001b[39;00m:\n\u001b[1;32m-> 1459\u001b[0m         \u001b[39mreturn\u001b[39;00m func(ax, \u001b[39m*\u001b[39m\u001b[39mmap\u001b[39m(sanitize_sequence, args), \u001b[39m*\u001b[39m\u001b[39m*\u001b[39mkwargs)\n\u001b[0;32m   1461\u001b[0m     bound \u001b[39m=\u001b[39m new_sig\u001b[39m.\u001b[39mbind(ax, \u001b[39m*\u001b[39margs, \u001b[39m*\u001b[39m\u001b[39m*\u001b[39mkwargs)\n\u001b[0;32m   1462\u001b[0m     auto_label \u001b[39m=\u001b[39m (bound\u001b[39m.\u001b[39marguments\u001b[39m.\u001b[39mget(label_namer)\n\u001b[0;32m   1463\u001b[0m                   \u001b[39mor\u001b[39;00m bound\u001b[39m.\u001b[39mkwargs\u001b[39m.\u001b[39mget(label_namer))\n",
      "File \u001b[1;32mc:\\Users\\mmart\\Programming\\EECS545\\project\\venv\\lib\\site-packages\\matplotlib\\axes\\_axes.py:4584\u001b[0m, in \u001b[0;36mAxes.scatter\u001b[1;34m(self, x, y, s, c, marker, cmap, norm, vmin, vmax, alpha, linewidths, edgecolors, plotnonfinite, **kwargs)\u001b[0m\n\u001b[0;32m   4582\u001b[0m y \u001b[39m=\u001b[39m np\u001b[39m.\u001b[39mma\u001b[39m.\u001b[39mravel(y)\n\u001b[0;32m   4583\u001b[0m \u001b[39mif\u001b[39;00m x\u001b[39m.\u001b[39msize \u001b[39m!=\u001b[39m y\u001b[39m.\u001b[39msize:\n\u001b[1;32m-> 4584\u001b[0m     \u001b[39mraise\u001b[39;00m \u001b[39mValueError\u001b[39;00m(\u001b[39m\"\u001b[39m\u001b[39mx and y must be the same size\u001b[39m\u001b[39m\"\u001b[39m)\n\u001b[0;32m   4586\u001b[0m \u001b[39mif\u001b[39;00m s \u001b[39mis\u001b[39;00m \u001b[39mNone\u001b[39;00m:\n\u001b[0;32m   4587\u001b[0m     s \u001b[39m=\u001b[39m (\u001b[39m20\u001b[39m \u001b[39mif\u001b[39;00m mpl\u001b[39m.\u001b[39mrcParams[\u001b[39m'\u001b[39m\u001b[39m_internal.classic_mode\u001b[39m\u001b[39m'\u001b[39m] \u001b[39melse\u001b[39;00m\n\u001b[0;32m   4588\u001b[0m          mpl\u001b[39m.\u001b[39mrcParams[\u001b[39m'\u001b[39m\u001b[39mlines.markersize\u001b[39m\u001b[39m'\u001b[39m] \u001b[39m*\u001b[39m\u001b[39m*\u001b[39m \u001b[39m2.0\u001b[39m)\n",
      "\u001b[1;31mValueError\u001b[0m: x and y must be the same size"
     ]
    },
    {
     "data": {
      "image/png": "[encoded data removed]",
      "text/plain": [
       "<Figure size 800x550 with 1 Axes>"
      ]
     },
     "metadata": {},
     "output_type": "display_data"
    }
   ],
   "source": [
    "print(X.size)\n",
    "print(Y.size)\n",
    "horizontal_axis = np.array(X)\n",
    "vertical_axis = np.array(Y)\n",
    "plt.title(\"Tau / Bandwidth Param %.2f\"% Bandwidth)\n",
    "plt.scatter(horizontal_axis, vertical_axis)\n",
    "Y_pred = np.array(y_pred)\n",
    "plt.scatter(X_test, Y_pred, color ='red')\n",
    "plt.scatter(X_test, y_test, color='blue')\n",
    "plt.show()"
   ]
  }
 ],
 "metadata": {
  "kernelspec": {
   "display_name": "venv",
   "language": "python",
   "name": "python3"
  },
  "language_info": {
   "codemirror_mode": {
    "name": "ipython",
    "version": 3
   },
   "file_extension": ".py",
   "mimetype": "text/x-python",
   "name": "python",
   "nbconvert_exporter": "python",
   "pygments_lexer": "ipython3",
   "version": "3.10.11"
  },
  "orig_nbformat": 4
 },
 "nbformat": 4,
 "nbformat_minor": 2
}
