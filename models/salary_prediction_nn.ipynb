{
 "cells": [
  {
   "cell_type": "code",
   "execution_count": 1,
   "metadata": {},
   "outputs": [],
   "source": [
    "# Setup autoreload\n",
    "%load_ext autoreload\n",
    "%autoreload 2\n",
    "\n",
    "# Give yourself access to common\n",
    "import os\n",
    "import sys\n",
    "module_path = os.path.abspath(os.path.join('..'))\n",
    "if module_path not in sys.path:\n",
    "    sys.path.append(module_path)"
   ]
  },
  {
   "cell_type": "code",
   "execution_count": 94,
   "metadata": {},
   "outputs": [],
   "source": [
    "# Gather training and testing data and process it to be configured for time intervals\n",
    "from common import *\n",
    "from sklearn.model_selection import train_test_split\n",
    "import pandas as pd\n",
    "\n",
    "nba = get_next_year_external_data()\n",
    "\n",
    "FUT_SAL_CLASS = 'future_salary_class'\n",
    "max = nba[NEXT_Y_SAL].max()\n",
    "min = nba[NEXT_Y_SAL].min()\n",
    "nba[FUT_SAL_CLASS] = nba[NEXT_Y_SAL].apply(lambda x: get_salary_class(x,max,min))\n",
    "feats = get_extern_features()\n",
    "feats.append(FUT_SAL_CLASS)\n",
    "\n",
    "X = pd.DataFrame(columns=feats)\n",
    "y = pd.DataFrame()\n",
    "\n",
    "for i, row in nba.iterrows() :\n",
    "    next_val = nba.loc[((nba[P_NAME] == row[P_NAME]) & (nba[SZN_START_Y] == (row[SZN_START_Y]+1)))]  \n",
    "    if not next_val.empty :\n",
    "        nba.loc[i,'y'] = next_val.index[0]\n",
    "    else :\n",
    "        nba.loc[i,'y'] = np.nan\n",
    "\n",
    "X = nba.copy(deep=True)\n",
    "X = X.dropna()\n",
    "y = nba.loc[X['y']]"
   ]
  },
  {
   "cell_type": "code",
   "execution_count": 122,
   "metadata": {},
   "outputs": [
    {
     "name": "stdout",
     "output_type": "stream",
     "text": [
      "Index(['MP', 'PTS', 'Age', 'games', 'games_started', 'PER', 'FTr', 'AST',\n",
      "       'STL', 'TRB', 'FT', '3P', 'FG', 'height', 'weight', 'all_star_total',\n",
      "       'all_star_enc', 'all_nba_enc', 'all_nba_total', 'draft_pick',\n",
      "       'champion', 'conference_champ', 'mvp', 'mvp_rank', 'mvp_total',\n",
      "       'player_week_enc', 'player_week_total', 'dpoy', 'dpoy_rank',\n",
      "       'dpoy_total', 'future_salary_class'],\n",
      "      dtype='object')\n",
      "Index(['MP', 'PTS', 'Age', 'games', 'games_started', 'PER', 'FTr', 'AST',\n",
      "       'STL', 'TRB', 'FT', '3P', 'FG', 'height', 'weight', 'all_star_total',\n",
      "       'all_star_enc', 'all_nba_enc', 'all_nba_total', 'draft_pick',\n",
      "       'champion', 'conference_champ', 'mvp', 'mvp_rank', 'mvp_total',\n",
      "       'player_week_enc', 'player_week_total', 'dpoy', 'dpoy_rank',\n",
      "       'dpoy_total', 'future_salary_class'],\n",
      "      dtype='object')\n",
      "655.0\n",
      "2.228594445658938\n",
      "655.0\n"
     ]
    }
   ],
   "source": [
    "# Normalize the data\n",
    "print(X.columns)\n",
    "print(y.columns)\n",
    "X = X[feats]\n",
    "y = y[feats]\n",
    "\n",
    "# Scale the stuff down\n",
    "from sklearn.preprocessing import StandardScaler\n",
    "scaler = StandardScaler()\n",
    "scaler.fit(X)\n",
    "X_scaled = scaler.transform(X)\n",
    "y_scaled = scaler.transform(y)\n",
    "y_scaled = y_scaled[:,:(len(get_base_features()))]\n",
    "\n",
    "# Sanity check the scaler\n",
    "print((X['FG']).iloc[0])\n",
    "print(X_scaled[0, X.columns.get_loc('FG')])\n",
    "inv = scaler.inverse_transform(X_scaled)\n",
    "print(inv[0, X.columns.get_loc('FG')])\n",
    "\n",
    "\n",
    "X_train, X_test, y_train, y_test = train_test_split(X_scaled, y_scaled, test_size = 0.25, random_state=42)"
   ]
  },
  {
   "cell_type": "code",
   "execution_count": 123,
   "metadata": {},
   "outputs": [
    {
     "name": "stdout",
     "output_type": "stream",
     "text": [
      "R_squared value:  0.544563211106863\n",
      "RMSE:  0.6983154608035047\n"
     ]
    }
   ],
   "source": [
    "# Fit the model\n",
    "from sklearn.neural_network import MLPRegressor\n",
    "import numpy as np\n",
    "\n",
    "# MLPClassifier only classifies data as integers or strings, therefore, our problem is one of regression for the neural network\n",
    "# Consequently I should use the mlp regressor\n",
    "mlp = MLPRegressor(hidden_layer_sizes=(10,10,10), solver='adam', max_iter=1000)\n",
    "mlp.fit(X_train,y_train)\n",
    "\n",
    "# Evaluate the model\n",
    "import numpy as np\n",
    "from sklearn.metrics import mean_squared_error\n",
    "predict_test = mlp.predict(X_test)\n",
    "test_set_rsquared = mlp.score(X_test, y_test)\n",
    "test_set_rmse = np.sqrt(mean_squared_error(predict_test, y_test))\n",
    "print('R_squared value: ', test_set_rsquared) # Variances are not nicely correlated\n",
    "print('RMSE: ', test_set_rmse) # Fairly good at data prediction\n"
   ]
  },
  {
   "cell_type": "code",
   "execution_count": 128,
   "metadata": {},
   "outputs": [
    {
     "name": "stdout",
     "output_type": "stream",
     "text": [
      "31\n",
      "[[ 0.09979132  0.24345098  2.00683168 -0.04667311  0.43485831  0.69535791\n",
      "   1.31129013 -0.29371348 -0.28086932  1.14292482  0.55134321 -0.83101524\n",
      "   0.25278441]]\n",
      "[[ 0.09979132  0.24345098  2.00683168 -0.04667311  0.43485831  0.69535791\n",
      "   1.31129013 -0.29371348 -0.28086932  1.14292482  0.55134321 -0.83101524\n",
      "   0.25278441  0.          0.          0.          0.          0.\n",
      "   0.          0.          0.          0.          0.          0.\n",
      "   0.          0.          0.          0.          0.          0.\n",
      "   0.        ]]\n",
      "[1758.7105049997422, 818.1881235394914, 33.94271707986599, 62.44990121115974, 50.22877392637578, 17.776465646143425, 0.53634896346997, 109.60401111655896, 43.457775226849044, 529.090034392435, 200.4914205403015, -0.9430328320497381, 306.4933077602975]\n",
      "MP               848.000\n",
      "PTS              540.000\n",
      "Age               35.000\n",
      "games             26.000\n",
      "games_started     26.000\n",
      "PER               23.300\n",
      "FTr                0.462\n",
      "AST               28.000\n",
      "STL               16.000\n",
      "TRB              265.000\n",
      "FT               134.000\n",
      "3P                 0.000\n",
      "FG               203.000\n",
      "Name: 444, dtype: float64\n"
     ]
    }
   ],
   "source": [
    "# Denormalize the data\n",
    "predict_test = mlp.predict((X_scaled[0]).reshape(1,-1))\n",
    "print(X_train.shape[1])\n",
    "print(predict_test)\n",
    "tmp = np.zeros((1,X_train.shape[1]))\n",
    "tmp[:,:predict_test.shape[1]] = predict_test\n",
    "print(tmp)\n",
    "undone = scaler.inverse_transform(tmp)\n",
    "print(undone.flatten().tolist()[:13])\n",
    "print(y[get_base_features()].iloc[0])"
   ]
  },
  {
   "cell_type": "code",
   "execution_count": 137,
   "metadata": {},
   "outputs": [
    {
     "name": "stdout",
     "output_type": "stream",
     "text": [
      "Off by at most this much: [1167.2935271353363, 575.2583820435141, 0.9230330865829134, 36.4534064944859, 44.51769700447245, 5.647797395913314, 0.19857049557170614, 169.67496835078165, 52.199777292083795, 271.0213703291426, 137.529373735622, 65.06267539248756, 217.14847440028575]\n",
      "[3485.  2832.    40.    85.    83.    45.3    6.   925.   225.  1226.\n",
      "  756.   402.   978. ]\n",
      "[  1.    0.   19.    1.    0.  -40.7   0.    0.    0.    0.    0.    0.\n",
      "   0. ]\n"
     ]
    }
   ],
   "source": [
    "# Compute the confidence interval of each of the features\n",
    "\n",
    "# Get the unscaled predictions\n",
    "predict_full = mlp.predict(X_scaled)\n",
    "tmp = np.zeros(X_scaled.shape)\n",
    "tmp[:,:predict_full.shape[1]] = predict_full\n",
    "predicted_unscaled_vals = scaler.inverse_transform(tmp)\n",
    "predicted_unscaled_vals = predicted_unscaled_vals[:,:predict_full.shape[1]]\n",
    "\n",
    "# compute the RMSE for each feature in the output vector\n",
    "actual_unscaled_vals = y[get_base_features()].values\n",
    "rmse = np.sqrt(np.square(predicted_unscaled_vals - actual_unscaled_vals))\n",
    "\n",
    "# compute the percentilse of the RMSE to get the confidence interval of each predicted feature\n",
    "ci_up = np.percentile(rmse, 95, axis=0) # 95th percentile\n",
    "ci_low = np.percentile(rmse, 5, axis=0) # 5th percentile\n",
    "print(\"Off by at most this much:\", ci_up.flatten().tolist())\n",
    "print(np.max(actual_unscaled_vals, axis=0))\n",
    "print(np.min(actual_unscaled_vals, axis=0)) \n",
    "# print(ci_low.flatten().tolist()) \n",
    "\n",
    "# TODO: validate these findings with the very basic network to see if it predicts that these stats will land us in our desired class"
   ]
  },
  {
   "cell_type": "code",
   "execution_count": 130,
   "metadata": {},
   "outputs": [
    {
     "name": "stdout",
     "output_type": "stream",
     "text": [
      "MSE:  0.5062924385242248\n",
      "RMSE:  0.7115422956678153\n"
     ]
    }
   ],
   "source": [
    "from sklearn.ensemble import RandomForestRegressor \n",
    "random_forest_model = RandomForestRegressor(n_estimators = 60, random_state = 0)\n",
    "\n",
    "random_forest_model.fit(X_train, y_train) \n",
    "\n",
    "y_pred = random_forest_model.predict(X_test)\n",
    "\n",
    "mse = mean_squared_error(y_test, y_pred)\n",
    "rmse = np.sqrt(mean_squared_error(y_test, y_pred))\n",
    "print(\"MSE: \",mse)\n",
    "print(\"RMSE: \",rmse)\n"
   ]
  }
 ],
 "metadata": {
  "kernelspec": {
   "display_name": "Python 3",
   "language": "python",
   "name": "python3"
  },
  "language_info": {
   "codemirror_mode": {
    "name": "ipython",
    "version": 3
   },
   "file_extension": ".py",
   "mimetype": "text/x-python",
   "name": "python",
   "nbconvert_exporter": "python",
   "pygments_lexer": "ipython3",
   "version": "3.10.11"
  },
  "orig_nbformat": 4
 },
 "nbformat": 4,
 "nbformat_minor": 2
}
