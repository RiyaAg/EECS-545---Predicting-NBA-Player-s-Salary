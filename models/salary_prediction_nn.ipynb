{
 "cells": [
  {
   "cell_type": "code",
   "execution_count": 69,
   "metadata": {},
   "outputs": [
    {
     "name": "stdout",
     "output_type": "stream",
     "text": [
      "The autoreload extension is already loaded. To reload it, use:\n",
      "  %reload_ext autoreload\n"
     ]
    }
   ],
   "source": [
    "# Setup autoreload\n",
    "%load_ext autoreload\n",
    "%autoreload 2\n",
    "\n",
    "# Give yourself access to common\n",
    "import os\n",
    "import sys\n",
    "module_path = os.path.abspath(os.path.join('..'))\n",
    "if module_path not in sys.path:\n",
    "    sys.path.append(module_path)"
   ]
  },
  {
   "cell_type": "code",
   "execution_count": 70,
   "metadata": {},
   "outputs": [],
   "source": [
    "# Gather training and testing data and process it to be configured for time intervals\n",
    "from common import *\n",
    "from sklearn.model_selection import train_test_split\n",
    "import pandas as pd\n",
    "\n",
    "nba = get_cleaned_external_data(next_year_salary=True)\n",
    "FUT_SAL_CLASS = 'future_salary_class'\n",
    "max = nba[NEXT_Y_SAL].max()\n",
    "min = nba[NEXT_Y_SAL].min()\n",
    "nba[FUT_SAL_CLASS] = nba[NEXT_Y_SAL].apply(lambda x: get_salary_class(x,max,min))\n",
    "\n",
    "for i, row in nba.iterrows() :\n",
    "    next_val = nba.loc[((nba[P_NAME] == row[P_NAME]) & (nba[SZN_START_Y] == (row[SZN_START_Y]+1)))]  \n",
    "    if not next_val.empty :\n",
    "        nba.loc[i,'y'] = next_val.index[0]\n",
    "    else :\n",
    "        nba.loc[i,'y'] = np.nan\n",
    "nba = nba.drop(P_NAME, axis=1)"
   ]
  },
  {
   "cell_type": "code",
   "execution_count": 71,
   "metadata": {},
   "outputs": [
    {
     "name": "stdout",
     "output_type": "stream",
     "text": [
      "['MP', 'PTS', 'Age', 'games', 'games_started', 'PER', 'FTr', 'AST', 'STL', 'TRB', 'FT', '3P', 'FG', 'height', 'weight', 'inflationAdjSalary', 'startYear', 'all_star_total', 'all_star_enc', 'all_nba_enc', 'all_nba_total', 'draft_pick', 'champion', 'conference_champ', 'mvp', 'mvp_rank', 'mvp_total', 'player_week_enc', 'player_week_total', 'dpoy', 'dpoy_rank', 'dpoy_total', 'next_year_salary', 'future_salary_class', 'future_salary_class']\n",
      "['MP', 'PTS', 'Age', 'games', 'games_started', 'PER', 'FTr', 'AST', 'STL', 'TRB', 'FT', '3P', 'FG', 'height', 'weight']\n",
      "Index(['MP', 'PTS', 'Age', 'games', 'games_started', 'PER', 'FTr', 'AST',\n",
      "       'STL', 'TRB', 'FT', '3P', 'FG', 'height', 'weight',\n",
      "       'inflationAdjSalary', 'startYear', 'all_star_total', 'all_star_enc',\n",
      "       'all_nba_enc', 'all_nba_total', 'draft_pick', 'champion',\n",
      "       'conference_champ', 'mvp', 'mvp_rank', 'mvp_total', 'player_week_enc',\n",
      "       'player_week_total', 'dpoy', 'dpoy_rank', 'dpoy_total',\n",
      "       'next_year_salary', 'future_salary_class', 'future_salary_class'],\n",
      "      dtype='object')\n",
      "Index(['MP', 'PTS', 'Age', 'games', 'games_started', 'PER', 'FTr', 'AST',\n",
      "       'STL', 'TRB', 'FT', '3P', 'FG', 'height', 'weight',\n",
      "       'inflationAdjSalary', 'startYear', 'all_star_total', 'all_star_enc',\n",
      "       'all_nba_enc', 'all_nba_total', 'draft_pick', 'champion',\n",
      "       'conference_champ', 'mvp', 'mvp_rank', 'mvp_total', 'player_week_enc',\n",
      "       'player_week_total', 'dpoy', 'dpoy_rank', 'dpoy_total',\n",
      "       'next_year_salary', 'future_salary_class', 'future_salary_class'],\n",
      "      dtype='object')\n",
      "655.0\n",
      "2.228594445658938\n",
      "655.0\n"
     ]
    }
   ],
   "source": [
    "\n",
    "# Normalize the data\n",
    "# print(X.columns)\n",
    "# print(y.columns)\n",
    "feats = nba.columns[1:-1]\n",
    "feats = list(feats)\n",
    "feats = feats + [FUT_SAL_CLASS]\n",
    "base_feats = feats[:15]\n",
    "print(feats)\n",
    "print(base_feats)\n",
    "\n",
    "X = pd.DataFrame(columns=feats)\n",
    "y = pd.DataFrame()\n",
    "X = nba.copy(deep=True)\n",
    "X = X.dropna()\n",
    "y = nba.loc[X['y']]\n",
    "\n",
    "X = X[feats]\n",
    "y = y[feats]\n",
    "print(X.columns)\n",
    "print(y.columns)\n",
    "# Scale the stuff down\n",
    "from sklearn.preprocessing import StandardScaler\n",
    "scaler = StandardScaler()\n",
    "scaler.fit(X)\n",
    "X_scaled = scaler.transform(X)\n",
    "y_scaled = scaler.transform(y)\n",
    "y_scaled = y_scaled[:,:(len(base_feats))]\n",
    "\n",
    "# Sanity check the scaler\n",
    "print((X['FG']).iloc[0])\n",
    "print(X_scaled[0, X.columns.get_loc('FG')])\n",
    "inv = scaler.inverse_transform(X_scaled)\n",
    "print(inv[0, X.columns.get_loc('FG')])\n",
    "\n",
    "\n",
    "X_train, X_test, y_train, y_test = train_test_split(X_scaled, y_scaled, test_size = 0.25, random_state=42)"
   ]
  },
  {
   "cell_type": "code",
   "execution_count": 72,
   "metadata": {},
   "outputs": [
    {
     "name": "stdout",
     "output_type": "stream",
     "text": [
      "R_squared value:  0.5850825007667574\n",
      "RMSE:  0.6657504300842313\n",
      "MSE: 0.44322363515733887\n"
     ]
    },
    {
     "data": {
      "text/plain": [
       "array([[ 0.8784,  0.5664,  1.503 , ...,  0.5788,  1.6408,  0.7872],\n",
       "       [ 0.8065,  0.8959,  1.2436, ...,  0.9473,  0.8153,  0.1395],\n",
       "       [ 0.3332,  0.2244,  0.7249, ...,  0.3237, -0.5605,  0.1036],\n",
       "       ...,\n",
       "       [ 0.0577, -0.0595, -0.3124, ..., -0.0505, -0.5605, -0.2203],\n",
       "       [ 0.6994,  0.8628, -0.5718, ...,  0.9643, -1.3859, -0.4721],\n",
       "       [ 0.4734,  0.2058,  0.7249, ...,  0.1423, -0.0101, -0.2203]])"
      ]
     },
     "execution_count": 72,
     "metadata": {},
     "output_type": "execute_result"
    }
   ],
   "source": [
    "\n",
    "# Fit the model\n",
    "from sklearn.neural_network import MLPRegressor\n",
    "import numpy as np\n",
    "\n",
    "# MLPClassifier only classifies data as integers or strings, therefore, our problem is one of regression for the neural network\n",
    "# Consequently I should use the mlp regressor\n",
    "mlp = MLPRegressor(hidden_layer_sizes=(10,10,10), solver='adam', max_iter=1000)\n",
    "mlp.fit(X_train,y_train)\n",
    "\n",
    "# Evaluate the model\n",
    "import numpy as np\n",
    "from sklearn.metrics import mean_squared_error\n",
    "predict_test = mlp.predict(X_test)\n",
    "test_set_rsquared = mlp.score(X_test, y_test)\n",
    "test_set_rmse = np.sqrt(mean_squared_error(predict_test, y_test))\n",
    "test_set_mse = mean_squared_error(predict_test, y_test)\n",
    "print('R_squared value: ', test_set_rsquared) # Variances are not nicely correlated\n",
    "print('RMSE: ', test_set_rmse) # Fairly good at data prediction\n",
    "print('MSE:', test_set_mse)\n",
    "y_test"
   ]
  },
  {
   "cell_type": "code",
   "execution_count": 73,
   "metadata": {},
   "outputs": [
    {
     "name": "stdout",
     "output_type": "stream",
     "text": [
      "35\n",
      "[[-0.3473  0.1926  2.1459 -0.3756 -0.1044  1.177   1.1461 -0.5646 -0.7909\n",
      "   1.0548  0.8068 -1.3838  0.4424  1.1144  1.5176]]\n",
      "[[-0.3473  0.1926  2.1459 -0.3756 -0.1044  1.177   1.1461 -0.5646 -0.7909\n",
      "   1.0548  0.8068 -1.3838  0.4424  1.1144  1.5176  0.      0.      0.\n",
      "   0.      0.      0.      0.      0.      0.      0.      0.      0.\n",
      "   0.      0.      0.      0.      0.      0.      0.      0.    ]]\n",
      "[1379.007003802174, 793.6402150565339, 34.47907263911488, 56.1558140101786, 33.84716238443668, 19.985552632390583, 0.5091669130741754, 69.36755256602876, 24.85730750477617, 511.12373220531765, 230.24123875172108, -28.593400032520137, 339.93668086914585]\n",
      "MP               848.000\n",
      "PTS              540.000\n",
      "Age               35.000\n",
      "games             26.000\n",
      "games_started     26.000\n",
      "PER               23.300\n",
      "FTr                0.462\n",
      "AST               28.000\n",
      "STL               16.000\n",
      "TRB              265.000\n",
      "FT               134.000\n",
      "3P                 0.000\n",
      "FG               203.000\n",
      "height            84.000\n",
      "weight           240.000\n",
      "Name: 444, dtype: float64\n"
     ]
    }
   ],
   "source": [
    "# Denormalize the data\n",
    "predict_test = mlp.predict((X_scaled[0]).reshape(1,-1))\n",
    "print(X_train.shape[1])\n",
    "print(predict_test)\n",
    "tmp = np.zeros((1,X_train.shape[1]))\n",
    "tmp[:,:predict_test.shape[1]] = predict_test\n",
    "print(tmp)\n",
    "undone = scaler.inverse_transform(tmp)\n",
    "print(undone.flatten().tolist()[:13])\n",
    "print(y[base_feats].iloc[0])"
   ]
  },
  {
   "cell_type": "code",
   "execution_count": 74,
   "metadata": {},
   "outputs": [
    {
     "name": "stdout",
     "output_type": "stream",
     "text": [
      "Off by at most this much: [1153.3427154791639, 566.4653829298258, 1.4806306102913793, 36.48444058574493, 43.315742215969884, 5.6247730891066565, 0.19913652253864425, 167.43853586888713, 51.428581589734364, 269.46801442990403, 138.99956669938416, 66.59845465583177, 214.15583934263128, 2.3371835720803005, 15.741791993143378]\n",
      "[3485.  2832.    40.    85.    83.    45.3    6.   925.   225.  1226.\n",
      "  756.   402.   978.    90.   325. ]\n",
      "[  1.    0.   19.    1.    0.  -40.7   0.    0.    0.    0.    0.    0.\n",
      "   0.   63.  135. ]\n",
      "[[478.8532 499.2195]\n",
      " [214.2021 224.319 ]\n",
      " [  0.4817   0.5104]\n",
      " [ 13.7261  14.3409]\n",
      " [ 18.6455  19.3896]\n",
      " [  2.1319   2.2511]\n",
      " [  0.0727   0.0789]\n",
      " [ 55.5391  58.7214]\n",
      " [ 18.7498  19.6568]\n",
      " [ 95.5898 100.5368]\n",
      " [ 48.5992  51.1554]\n",
      " [ 22.5356  23.766 ]\n",
      " [ 81.2177  85.0052]\n",
      " [  0.9099   0.9523]\n",
      " [  6.4441   6.7244]]\n",
      "{'column_0': (478.7941558303536, 498.79104173991163), 'column_1': (214.1566353048266, 224.39457036661267), 'column_2': (0.4820436037727562, 0.5102167727129836), 'column_3': (13.732189225486978, 14.321002038334912), 'column_4': (18.638934054324896, 19.41756705476971), 'column_5': (2.136795509528168, 2.2505445656001726), 'column_6': (0.07289344585415297, 0.07920191566151928), 'column_7': (55.63801765283388, 58.78943932252469), 'column_8': (18.791253211227144, 19.652116159348903), 'column_9': (95.56950232753807, 100.47058853558526), 'column_10': (48.600502182946194, 51.112267664215096), 'column_11': (22.517281461212423, 23.77509866898182), 'column_12': (81.26513626302696, 85.02003293794255), 'column_13': (0.9111775034321085, 0.9543161464830805), 'column_14': (6.445610892432566, 6.719366933423751)}\n",
      "HELLO\n",
      "[1033.468   462.067     1.2622   36.4844   35.531     4.6046    0.1486\n",
      "  110.5161   37.2624  204.8651  101.343    43.057   175.4735    1.9937\n",
      "   13.8281]\n"
     ]
    }
   ],
   "source": [
    "# Compute the confidence interval of each of the features\n",
    "from common import *\n",
    "\n",
    "# Get the unscaled predictions\n",
    "predict_full = mlp.predict(X_scaled)\n",
    "tmp = np.zeros(X_scaled.shape)\n",
    "tmp[:,:predict_full.shape[1]] = predict_full\n",
    "predicted_unscaled_vals = scaler.inverse_transform(tmp)\n",
    "predicted_unscaled_vals = predicted_unscaled_vals[:,:predict_full.shape[1]]\n",
    "\n",
    "# compute the RMSE for each feature in the output vector\n",
    "actual_unscaled_vals = y[base_feats].values\n",
    "rmse = np.sqrt(np.square(predicted_unscaled_vals - actual_unscaled_vals))\n",
    "\n",
    "# compute the percentilse of the RMSE to get the confidence interval of each predicted feature\n",
    "ci_up = np.percentile(rmse, 95, axis=0) # 95th percentile\n",
    "ci_low = np.percentile(rmse, 5, axis=0) # 5th percentile\n",
    "print(\"Off by at most this much:\", ci_up.flatten().tolist())\n",
    "print(np.max(actual_unscaled_vals, axis=0))\n",
    "print(np.min(actual_unscaled_vals, axis=0)) \n",
    "# print(ci_low.flatten().tolist()) \n",
    "\n",
    "# TODO: validate these findings with the very basic network to see if it predicts that these stats will land us in our desired class\n",
    "np.set_printoptions(suppress=True, precision=4)\n",
    "print(confidence_interval_numpy(predicted_unscaled_vals, actual_unscaled_vals)) # requires the assumption of gaussianity, but seems to be working?\n",
    "\n",
    "\n",
    "print(bootstrap_confidence_interval(predicted_unscaled_vals, actual_unscaled_vals)) # should be able to work without the assumption of gaussianity\n",
    "# computing for rmse, so says that the true root mean squared error has a 95% of landing in these intervals\n",
    "# residuals are likely far smaller because you have the negatives balancing things out so it is going to be less accurate for computing the confidence interval\n",
    "\n",
    "residuals = predicted_unscaled_vals - actual_unscaled_vals\n",
    "ci = np.quantile(residuals, 1 - 0.05, axis=0)\n",
    "print(\"HELLO\")\n",
    "print(ci)\n",
    "\n",
    "# I want to say that my prediction is between these 2 bounds with 95% confidence\n",
    "# The two functions I provided seem to find the rmse of each parameter with 95% confidence\n",
    "# the first and 4th method I try do not scale the mean of the data and therefore, I don't think they necessarily apply to giving me the confidence interval I desire\n",
    "\n",
    "\n",
    "\n",
    "# DO A CASE STUDY on an individual\n",
    "# ANALYZE THIS MODEL ON BASELINE AND EXTERNAL\n",
    "\n",
    "\n"
   ]
  },
  {
   "cell_type": "code",
   "execution_count": 75,
   "metadata": {},
   "outputs": [],
   "source": [
    "# from sklearn.ensemble import RandomForestRegressor \n",
    "# random_forest_model = RandomForestRegressor(n_estimators = 60, random_state = 0)\n",
    "\n",
    "# random_forest_model.fit(X_train, y_train) \n",
    "\n",
    "# y_pred = random_forest_model.predict(X_test)\n",
    "\n",
    "# mse = mean_squared_error(y_test, y_pred)\n",
    "# rmse = np.sqrt(mean_squared_error(y_test, y_pred))\n",
    "# print(\"MSE: \",mse)\n",
    "# print(\"RMSE: \",rmse)\n"
   ]
  }
 ],
 "metadata": {
  "kernelspec": {
   "display_name": "Python 3",
   "language": "python",
   "name": "python3"
  },
  "language_info": {
   "codemirror_mode": {
    "name": "ipython",
    "version": 3
   },
   "file_extension": ".py",
   "mimetype": "text/x-python",
   "name": "python",
   "nbconvert_exporter": "python",
   "pygments_lexer": "ipython3",
   "version": "3.10.11"
  },
  "orig_nbformat": 4
 },
 "nbformat": 4,
 "nbformat_minor": 2
}
