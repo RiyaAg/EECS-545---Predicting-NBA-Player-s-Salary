{
 "cells": [
  {
   "cell_type": "code",
   "execution_count": 2,
   "metadata": {},
   "outputs": [],
   "source": [
    "# Setup autoreload\n",
    "%load_ext autoreload\n",
    "%autoreload 2\n",
    "\n",
    "# Give yourself access to common\n",
    "import os\n",
    "import sys\n",
    "module_path = os.path.abspath(os.path.join('..'))\n",
    "if module_path not in sys.path:\n",
    "    sys.path.append(module_path)"
   ]
  },
  {
   "cell_type": "code",
   "execution_count": 3,
   "metadata": {},
   "outputs": [],
   "source": [
    "# Gather training and testing data and process it to be configured for time intervals\n",
    "from common import *\n",
    "from sklearn.model_selection import train_test_split\n",
    "import pandas as pd\n",
    "\n",
    "nba = get_next_year_external_data()\n",
    "\n",
    "FUT_SAL_CLASS = 'future_salary_class'\n",
    "max = nba[NEXT_Y_SAL].max()\n",
    "min = nba[NEXT_Y_SAL].min()\n",
    "nba[FUT_SAL_CLASS] = nba[NEXT_Y_SAL].apply(lambda x: get_salary_class(x,max,min))\n",
    "feats = get_extern_features()\n",
    "feats.append(FUT_SAL_CLASS)\n",
    "\n",
    "X = pd.DataFrame(columns=feats)\n",
    "y = pd.DataFrame()\n",
    "\n",
    "for i, row in nba.iterrows() :\n",
    "    next_val = nba.loc[((nba[P_NAME] == row[P_NAME]) & (nba[SZN_START_Y] == (row[SZN_START_Y]+1)))]  \n",
    "    if not next_val.empty :\n",
    "        nba.loc[i,'y'] = next_val.index[0]\n",
    "    else :\n",
    "        nba.loc[i,'y'] = np.nan\n",
    "\n",
    "X = nba.copy(deep=True)\n",
    "X = X.dropna()\n",
    "y = nba.loc[X['y']]"
   ]
  },
  {
   "cell_type": "code",
   "execution_count": 11,
   "metadata": {},
   "outputs": [
    {
     "name": "stdout",
     "output_type": "stream",
     "text": [
      "Index(['MP', 'PTS', 'Age', 'games', 'games_started', 'PER', 'FTr', 'AST',\n",
      "       'STL', 'TRB', 'FT', '3P', 'FG', 'height', 'weight', 'all_star_total',\n",
      "       'all_star_enc', 'all_nba_enc', 'all_nba_total', 'draft_pick',\n",
      "       'champion', 'conference_champ', 'mvp', 'mvp_rank', 'mvp_total',\n",
      "       'player_week_enc', 'player_week_total', 'dpoy', 'dpoy_rank',\n",
      "       'dpoy_total', 'future_salary_class'],\n",
      "      dtype='object')\n",
      "Index(['MP', 'PTS', 'Age', 'games', 'games_started', 'PER', 'FTr', 'AST',\n",
      "       'STL', 'TRB', 'FT', '3P', 'FG', 'height', 'weight', 'all_star_total',\n",
      "       'all_star_enc', 'all_nba_enc', 'all_nba_total', 'draft_pick',\n",
      "       'champion', 'conference_champ', 'mvp', 'mvp_rank', 'mvp_total',\n",
      "       'player_week_enc', 'player_week_total', 'dpoy', 'dpoy_rank',\n",
      "       'dpoy_total', 'future_salary_class'],\n",
      "      dtype='object')\n",
      "655.0\n",
      "2.228594445658938\n",
      "655.0\n"
     ]
    }
   ],
   "source": [
    "# Normalize the data\n",
    "# print(X.columns)\n",
    "# print(y.columns)\n",
    "X = X[feats]\n",
    "y = y[feats]\n",
    "print(X.columns)\n",
    "print(y.columns)\n",
    "# Scale the stuff down\n",
    "from sklearn.preprocessing import StandardScaler\n",
    "scaler = StandardScaler()\n",
    "scaler.fit(X)\n",
    "X_scaled = scaler.transform(X)\n",
    "y_scaled = scaler.transform(y)\n",
    "y_scaled = y_scaled[:,:(len(get_base_features()))]\n",
    "\n",
    "# Sanity check the scaler\n",
    "print((X['FG']).iloc[0])\n",
    "print(X_scaled[0, X.columns.get_loc('FG')])\n",
    "inv = scaler.inverse_transform(X_scaled)\n",
    "print(inv[0, X.columns.get_loc('FG')])\n",
    "\n",
    "\n",
    "X_train, X_test, y_train, y_test = train_test_split(X_scaled, y_scaled, test_size = 0.25, random_state=42)"
   ]
  },
  {
   "cell_type": "code",
   "execution_count": 10,
   "metadata": {},
   "outputs": [
    {
     "name": "stdout",
     "output_type": "stream",
     "text": [
      "R_squared value:  0.5384459712465142\n",
      "RMSE:  0.7034877538815848\n"
     ]
    },
    {
     "data": {
      "text/plain": [
       "array([[ 0.8784,  0.5664,  1.503 , ...,  0.9078, -0.7322,  0.5788],\n",
       "       [ 0.8065,  0.8959,  1.2436, ...,  0.9593, -0.2724,  0.9473],\n",
       "       [ 0.3332,  0.2244,  0.7249, ...,  0.2809, -0.7722,  0.3237],\n",
       "       ...,\n",
       "       [ 0.0577, -0.0595, -0.3124, ..., -0.3546,  0.6072, -0.0505],\n",
       "       [ 0.6994,  0.8628, -0.5718, ...,  0.384 ,  0.6272,  0.9643],\n",
       "       [ 0.4734,  0.2058,  0.7249, ...,  0.3754,  0.1074,  0.1423]])"
      ]
     },
     "execution_count": 10,
     "metadata": {},
     "output_type": "execute_result"
    }
   ],
   "source": [
    "# Fit the model\n",
    "from sklearn.neural_network import MLPRegressor\n",
    "import numpy as np\n",
    "\n",
    "# MLPClassifier only classifies data as integers or strings, therefore, our problem is one of regression for the neural network\n",
    "# Consequently I should use the mlp regressor\n",
    "mlp = MLPRegressor(hidden_layer_sizes=(10,10,10), solver='adam', max_iter=1000)\n",
    "mlp.fit(X_train,y_train)\n",
    "\n",
    "# Evaluate the model\n",
    "import numpy as np\n",
    "from sklearn.metrics import mean_squared_error\n",
    "predict_test = mlp.predict(X_test)\n",
    "test_set_rsquared = mlp.score(X_test, y_test)\n",
    "test_set_rmse = np.sqrt(mean_squared_error(predict_test, y_test))\n",
    "print('R_squared value: ', test_set_rsquared) # Variances are not nicely correlated\n",
    "print('RMSE: ', test_set_rmse) # Fairly good at data prediction\n",
    "y_test"
   ]
  },
  {
   "cell_type": "code",
   "execution_count": 6,
   "metadata": {},
   "outputs": [
    {
     "name": "stdout",
     "output_type": "stream",
     "text": [
      "31\n",
      "[[-0.09648197  0.20043841  1.39347494 -0.1630938   0.14945895  0.90856153\n",
      "   1.87347198 -0.91617976 -0.72312919  1.29120111  0.83793324 -1.47905973\n",
      "   0.21048881]]\n",
      "[[-0.09648197  0.20043841  1.39347494 -0.1630938   0.14945895  0.90856153\n",
      "   1.87347198 -0.91617976 -0.72312919  1.29120111  0.83793324 -1.47905973\n",
      "   0.21048881  0.          0.          0.          0.          0.\n",
      "   0.          0.          0.          0.          0.          0.\n",
      "   0.          0.          0.          0.          0.          0.\n",
      "   0.        ]]\n",
      "[1592.0039279936177, 797.4355141107494, 31.57772408588736, 60.22206248863617, 41.55932615025075, 18.75443648550864, 0.6288436335958985, 17.1602377040725, 27.327419003784147, 559.3262723279156, 233.8634095665488, -33.360441622082206, 299.0329253147766]\n",
      "MP               848.000\n",
      "PTS              540.000\n",
      "Age               35.000\n",
      "games             26.000\n",
      "games_started     26.000\n",
      "PER               23.300\n",
      "FTr                0.462\n",
      "AST               28.000\n",
      "STL               16.000\n",
      "TRB              265.000\n",
      "FT               134.000\n",
      "3P                 0.000\n",
      "FG               203.000\n",
      "Name: 444, dtype: float64\n"
     ]
    }
   ],
   "source": [
    "# Denormalize the data\n",
    "predict_test = mlp.predict((X_scaled[0]).reshape(1,-1))\n",
    "print(X_train.shape[1])\n",
    "print(predict_test)\n",
    "tmp = np.zeros((1,X_train.shape[1]))\n",
    "tmp[:,:predict_test.shape[1]] = predict_test\n",
    "print(tmp)\n",
    "undone = scaler.inverse_transform(tmp)\n",
    "print(undone.flatten().tolist()[:13])\n",
    "print(y[get_base_features()].iloc[0])"
   ]
  },
  {
   "cell_type": "code",
   "execution_count": 7,
   "metadata": {},
   "outputs": [
    {
     "name": "stdout",
     "output_type": "stream",
     "text": [
      "Off by at most this much: [1173.7277934161475, 572.6871336437432, 1.1032783140089961, 36.630759509685305, 44.36668716823427, 5.623357765732388, 0.19639209141556396, 166.26071943551509, 51.64756898086105, 269.47194499486983, 139.16873661189015, 64.96848336941906, 213.5963551831732]\n",
      "[3485.  2832.    40.    85.    83.    45.3    6.   925.   225.  1226.\n",
      "  756.   402.   978. ]\n",
      "[  1.    0.   19.    1.    0.  -40.7   0.    0.    0.    0.    0.    0.\n",
      "   0. ]\n",
      "[[477.2444 497.728 ]\n",
      " [212.2477 222.4122]\n",
      " [  0.3876   0.4157]\n",
      " [ 13.7705  14.3844]\n",
      " [ 18.194   18.9543]\n",
      " [  2.1477   2.2671]\n",
      " [  0.0721   0.0783]\n",
      " [ 54.4207  57.5753]\n",
      " [ 18.7665  19.6952]\n",
      " [ 96.427  101.3828]\n",
      " [ 48.2369  50.8067]\n",
      " [ 21.1657  22.3882]\n",
      " [ 80.6696  84.4823]]\n",
      "{'column_0': (477.3099324203418, 497.83566762939677), 'column_1': (212.34921493108195, 222.45566885636774), 'column_2': (0.38794279021124956, 0.4158607239573993), 'column_3': (13.7620954530206, 14.39440929745578), 'column_4': (18.218059582242542, 18.994197698621157), 'column_5': (2.149731908294702, 2.266677467515152), 'column_6': (0.07244493725718351, 0.07855601089520736), 'column_7': (54.56626351726577, 57.55518373893834), 'column_8': (18.79644946199313, 19.709914511400104), 'column_9': (96.52510253727827, 101.37358975188432), 'column_10': (48.27227513333403, 50.842624127263015), 'column_11': (21.187985555078697, 22.404900444193487), 'column_12': (80.68312409818117, 84.26910813306236)}\n",
      "HELLO\n",
      "[1010.7061  455.5324    0.8079   36.6308   34.9275    4.6868    0.1452\n",
      "  117.9136   38.1014  192.6538   97.8497   43.4881  168.021 ]\n"
     ]
    }
   ],
   "source": [
    "# Compute the confidence interval of each of the features\n",
    "from common import *\n",
    "\n",
    "# Get the unscaled predictions\n",
    "predict_full = mlp.predict(X_scaled)\n",
    "tmp = np.zeros(X_scaled.shape)\n",
    "tmp[:,:predict_full.shape[1]] = predict_full\n",
    "predicted_unscaled_vals = scaler.inverse_transform(tmp)\n",
    "predicted_unscaled_vals = predicted_unscaled_vals[:,:predict_full.shape[1]]\n",
    "\n",
    "# compute the RMSE for each feature in the output vector\n",
    "actual_unscaled_vals = y[get_base_features()].values\n",
    "rmse = np.sqrt(np.square(predicted_unscaled_vals - actual_unscaled_vals))\n",
    "\n",
    "# compute the percentilse of the RMSE to get the confidence interval of each predicted feature\n",
    "ci_up = np.percentile(rmse, 95, axis=0) # 95th percentile\n",
    "ci_low = np.percentile(rmse, 5, axis=0) # 5th percentile\n",
    "print(\"Off by at most this much:\", ci_up.flatten().tolist())\n",
    "print(np.max(actual_unscaled_vals, axis=0))\n",
    "print(np.min(actual_unscaled_vals, axis=0)) \n",
    "# print(ci_low.flatten().tolist()) \n",
    "\n",
    "# TODO: validate these findings with the very basic network to see if it predicts that these stats will land us in our desired class\n",
    "np.set_printoptions(suppress=True, precision=4)\n",
    "print(confidence_interval_numpy(predicted_unscaled_vals, actual_unscaled_vals)) # requires the assumption of gaussianity, but seems to be working?\n",
    "\n",
    "\n",
    "print(bootstrap_confidence_interval(predicted_unscaled_vals, actual_unscaled_vals)) # should be able to work without the assumption of gaussianity\n",
    "# computing for rmse, so says that the true root mean squared error has a 95% of landing in these intervals\n",
    "# residuals are likely far smaller because you have the negatives balancing things out so it is going to be less accurate for computing the confidence interval\n",
    "\n",
    "residuals = predicted_unscaled_vals - actual_unscaled_vals\n",
    "ci = np.quantile(residuals, 1 - 0.05, axis=0)\n",
    "print(\"HELLO\")\n",
    "print(ci)\n",
    "\n",
    "# I want to say that my prediction is between these 2 bounds with 95% confidence\n",
    "# The two functions I provided seem to find the rmse of each parameter with 95% confidence\n",
    "# the first and 4th method I try do not scale the mean of the data and therefore, I don't think they necessarily apply to giving me the confidence interval I desire\n",
    "\n",
    "\n",
    "\n",
    "# DO A CASE STUDY on an individual\n",
    "# ANALYZE THIS MODEL ON BASELINE AND EXTERNAL\n",
    "\n",
    "\n"
   ]
  },
  {
   "cell_type": "code",
   "execution_count": 8,
   "metadata": {},
   "outputs": [
    {
     "name": "stdout",
     "output_type": "stream",
     "text": [
      "MSE:  0.5062924385242248\n",
      "RMSE:  0.7115422956678153\n"
     ]
    }
   ],
   "source": [
    "from sklearn.ensemble import RandomForestRegressor \n",
    "random_forest_model = RandomForestRegressor(n_estimators = 60, random_state = 0)\n",
    "\n",
    "random_forest_model.fit(X_train, y_train) \n",
    "\n",
    "y_pred = random_forest_model.predict(X_test)\n",
    "\n",
    "mse = mean_squared_error(y_test, y_pred)\n",
    "rmse = np.sqrt(mean_squared_error(y_test, y_pred))\n",
    "print(\"MSE: \",mse)\n",
    "print(\"RMSE: \",rmse)\n"
   ]
  }
 ],
 "metadata": {
  "kernelspec": {
   "display_name": "Python 3",
   "language": "python",
   "name": "python3"
  },
  "language_info": {
   "codemirror_mode": {
    "name": "ipython",
    "version": 3
   },
   "file_extension": ".py",
   "mimetype": "text/x-python",
   "name": "python",
   "nbconvert_exporter": "python",
   "pygments_lexer": "ipython3",
   "version": "3.10.11"
  },
  "orig_nbformat": 4
 },
 "nbformat": 4,
 "nbformat_minor": 2
}
