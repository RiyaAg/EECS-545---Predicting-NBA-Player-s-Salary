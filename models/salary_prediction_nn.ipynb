{
 "cells": [
  {
   "cell_type": "code",
   "execution_count": 168,
   "metadata": {},
   "outputs": [
    {
     "name": "stdout",
     "output_type": "stream",
     "text": [
      "The autoreload extension is already loaded. To reload it, use:\n",
      "  %reload_ext autoreload\n"
     ]
    }
   ],
   "source": [
    "# Setup autoreload\n",
    "%load_ext autoreload\n",
    "%autoreload 2\n",
    "\n",
    "# Give yourself access to common\n",
    "import os\n",
    "import sys\n",
    "module_path = os.path.abspath(os.path.join('..'))\n",
    "if module_path not in sys.path:\n",
    "    sys.path.append(module_path)"
   ]
  },
  {
   "cell_type": "code",
   "execution_count": 169,
   "metadata": {},
   "outputs": [],
   "source": [
    "# Gather training and testing data and process it to be configured for time intervals\n",
    "from common import *\n",
    "from sklearn.model_selection import train_test_split\n",
    "import pandas as pd\n",
    "\n",
    "nba = get_next_year_external_data()\n",
    "\n",
    "FUT_SAL_CLASS = 'future_salary_class'\n",
    "max = nba[NEXT_Y_SAL].max()\n",
    "min = nba[NEXT_Y_SAL].min()\n",
    "nba[FUT_SAL_CLASS] = nba[NEXT_Y_SAL].apply(lambda x: get_salary_class(x,max,min))\n",
    "feats = get_extern_features()\n",
    "feats.append(FUT_SAL_CLASS)\n",
    "\n",
    "X = pd.DataFrame(columns=feats)\n",
    "y = pd.DataFrame()\n",
    "\n",
    "for i, row in nba.iterrows() :\n",
    "    next_val = nba.loc[((nba[P_NAME] == row[P_NAME]) & (nba[SZN_START_Y] == (row[SZN_START_Y]+1)))]  \n",
    "    if not next_val.empty :\n",
    "        nba.loc[i,'y'] = next_val.index[0]\n",
    "    else :\n",
    "        nba.loc[i,'y'] = np.nan\n",
    "\n",
    "X = nba.copy(deep=True)\n",
    "X = X.dropna()\n",
    "y = nba.loc[X['y']]"
   ]
  },
  {
   "cell_type": "code",
   "execution_count": 158,
   "metadata": {},
   "outputs": [
    {
     "name": "stdout",
     "output_type": "stream",
     "text": [
      "Index(['playerName', 'seasonStartYear', 'salary', 'inflationAdjSalary',\n",
      "       'startYear', 'height', 'weight', 'MP', 'PTS', 'Age', 'games',\n",
      "       'games_started', 'PER', 'FTr', 'AST', 'STL', 'TRB', 'FT', '3P', 'FG',\n",
      "       'all_star_total', 'all_star_enc', 'all_nba_enc', 'all_nba_total',\n",
      "       'draft_pick', 'champion', 'conference_champ', 'mvp', 'mvp_rank',\n",
      "       'mvp_total', 'player_week_enc', 'player_week_total', 'dpoy',\n",
      "       'dpoy_rank', 'dpoy_total', 'next_year_salary', 'inflationAdjSalary_log',\n",
      "       'future_salary_class', 'y'],\n",
      "      dtype='object')\n",
      "Index(['playerName', 'seasonStartYear', 'salary', 'inflationAdjSalary',\n",
      "       'startYear', 'height', 'weight', 'MP', 'PTS', 'Age', 'games',\n",
      "       'games_started', 'PER', 'FTr', 'AST', 'STL', 'TRB', 'FT', '3P', 'FG',\n",
      "       'all_star_total', 'all_star_enc', 'all_nba_enc', 'all_nba_total',\n",
      "       'draft_pick', 'champion', 'conference_champ', 'mvp', 'mvp_rank',\n",
      "       'mvp_total', 'player_week_enc', 'player_week_total', 'dpoy',\n",
      "       'dpoy_rank', 'dpoy_total', 'next_year_salary', 'inflationAdjSalary_log',\n",
      "       'future_salary_class', 'y'],\n",
      "      dtype='object')\n",
      "655.0\n",
      "2.228594445658938\n",
      "655.0\n"
     ]
    }
   ],
   "source": [
    "# Normalize the data\n",
    "print(X.columns)\n",
    "print(y.columns)\n",
    "X = X[feats]\n",
    "y = y[feats]\n",
    "\n",
    "# Scale the stuff down\n",
    "from sklearn.preprocessing import StandardScaler\n",
    "scaler = StandardScaler()\n",
    "scaler.fit(X)\n",
    "X_scaled = scaler.transform(X)\n",
    "y_scaled = scaler.transform(y)\n",
    "y_scaled = y_scaled[:,:(len(get_base_features()))]\n",
    "\n",
    "# Sanity check the scaler\n",
    "print((X['FG']).iloc[0])\n",
    "print(X_scaled[0, X.columns.get_loc('FG')])\n",
    "inv = scaler.inverse_transform(X_scaled)\n",
    "print(inv[0, X.columns.get_loc('FG')])\n",
    "\n",
    "\n",
    "X_train, X_test, y_train, y_test = train_test_split(X_scaled, y_scaled, test_size = 0.25, random_state=42)"
   ]
  },
  {
   "cell_type": "code",
   "execution_count": 159,
   "metadata": {},
   "outputs": [
    {
     "name": "stdout",
     "output_type": "stream",
     "text": [
      "R_squared value:  0.5430047460879769\n",
      "RMSE:  0.6990395328852275\n"
     ]
    }
   ],
   "source": [
    "# Fit the model\n",
    "from sklearn.neural_network import MLPRegressor\n",
    "import numpy as np\n",
    "\n",
    "# MLPClassifier only classifies data as integers or strings, therefore, our problem is one of regression for the neural network\n",
    "# Consequently I should use the mlp regressor\n",
    "mlp = MLPRegressor(hidden_layer_sizes=(10,10,10), solver='adam', max_iter=1000)\n",
    "mlp.fit(X_train,y_train)\n",
    "\n",
    "# Evaluate the model\n",
    "import numpy as np\n",
    "from sklearn.metrics import mean_squared_error\n",
    "predict_test = mlp.predict(X_test)\n",
    "test_set_rsquared = mlp.score(X_test, y_test)\n",
    "test_set_rmse = np.sqrt(mean_squared_error(predict_test, y_test))\n",
    "print('R_squared value: ', test_set_rsquared) # Variances are not nicely correlated\n",
    "print('RMSE: ', test_set_rmse) # Fairly good at data prediction\n"
   ]
  },
  {
   "cell_type": "code",
   "execution_count": 160,
   "metadata": {},
   "outputs": [
    {
     "name": "stdout",
     "output_type": "stream",
     "text": [
      "31\n",
      "[[ 0.15406592  0.44811503  2.14461059 -0.07218649  0.27128318  1.20844438\n",
      "   0.90593634 -0.12750142 -0.27509674  1.02846222  0.85351602 -0.87813941\n",
      "   0.42424165]]\n",
      "[[ 0.15406592  0.44811503  2.14461059 -0.07218649  0.27128318  1.20844438\n",
      "   0.90593634 -0.12750142 -0.27509674  1.02846222  0.85351602 -0.87813941\n",
      "   0.42424165  0.          0.          0.          0.          0.\n",
      "   0.          0.          0.          0.          0.          0.\n",
      "   0.          0.          0.          0.          0.          0.\n",
      "   0.        ]]\n",
      "[1804.8091457537826, 916.9339999194603, 34.47396770479206, 61.9616744628393, 45.259926037131166, 20.130007368850883, 0.4696569039802204, 134.28851197940955, 43.66831592523483, 505.7490213502364, 235.67794614490566, -3.300345707238563, 336.73609208506787]\n",
      "MP               848.000\n",
      "PTS              540.000\n",
      "Age               35.000\n",
      "games             26.000\n",
      "games_started     26.000\n",
      "PER               23.300\n",
      "FTr                0.462\n",
      "AST               28.000\n",
      "STL               16.000\n",
      "TRB              265.000\n",
      "FT               134.000\n",
      "3P                 0.000\n",
      "FG               203.000\n",
      "Name: 444, dtype: float64\n"
     ]
    }
   ],
   "source": [
    "# Denormalize the data\n",
    "predict_test = mlp.predict((X_scaled[0]).reshape(1,-1))\n",
    "print(X_train.shape[1])\n",
    "print(predict_test)\n",
    "tmp = np.zeros((1,X_train.shape[1]))\n",
    "tmp[:,:predict_test.shape[1]] = predict_test\n",
    "print(tmp)\n",
    "undone = scaler.inverse_transform(tmp)\n",
    "print(undone.flatten().tolist()[:13])\n",
    "print(y[get_base_features()].iloc[0])"
   ]
  },
  {
   "cell_type": "code",
   "execution_count": 175,
   "metadata": {},
   "outputs": [
    {
     "name": "stdout",
     "output_type": "stream",
     "text": [
      "Off by at most this much: [1172.3564560815996, 569.4829357942618, 1.3896894759170844, 36.59471429489035, 44.37898972929316, 5.597520084498786, 0.2042226668532916, 158.93510736691613, 51.968732395224585, 270.11117542236786, 136.78868259442984, 65.96950758862283, 215.53969882340346]\n",
      "[3485.  2832.    40.    85.    83.    45.3    6.   925.   225.  1226.\n",
      "  756.   402.   978. ]\n",
      "[  1.    0.   19.    1.    0.  -40.7   0.    0.    0.    0.    0.    0.\n",
      "   0. ]\n",
      "4772\n",
      "[[476.9914 497.5006]\n",
      " [212.5013 222.6236]\n",
      " [  0.5104   0.5384]\n",
      " [ 13.7526  14.3679]\n",
      " [ 18.3791  19.1324]\n",
      " [  2.1031   2.2212]\n",
      " [  0.0725   0.0787]\n",
      " [ 52.6434  55.7149]\n",
      " [ 19.2409  20.1735]\n",
      " [ 94.9067  99.88  ]\n",
      " [ 47.6874  50.2142]\n",
      " [ 20.4182  21.6369]\n",
      " [ 81.2126  85.0352]]\n",
      "{'column_0': (476.6990517898919, 497.41251769766905), 'column_1': (212.7659882709957, 222.63260566861223), 'column_2': (0.5099046510887357, 0.5387244200121231), 'column_3': (13.731411075318098, 14.397275836512582), 'column_4': (18.358303281091086, 19.12155557095763), 'column_5': (2.1033637709199327, 2.215594517106834), 'column_6': (0.0727870736072067, 0.07893710842384302), 'column_7': (52.65308214700685, 55.64223830525694), 'column_8': (19.24857104451085, 20.144301002661802), 'column_9': (94.87046191503953, 99.77413813452146), 'column_10': (47.71606641249351, 50.21620645857263), 'column_11': (20.397943240890605, 21.637993890187367), 'column_12': (81.06212863864492, 84.95967978775937)}\n",
      "HELLO\n",
      "[1025.5191  456.2538    1.0954   36.5947   35.051     4.6023    0.1377\n",
      "  114.5386   38.2391  202.6873   99.2002   45.3737  170.6686]\n"
     ]
    }
   ],
   "source": [
    "# Compute the confidence interval of each of the features\n",
    "from common import *\n",
    "\n",
    "# Get the unscaled predictions\n",
    "predict_full = mlp.predict(X_scaled)\n",
    "tmp = np.zeros(X_scaled.shape)\n",
    "tmp[:,:predict_full.shape[1]] = predict_full\n",
    "predicted_unscaled_vals = scaler.inverse_transform(tmp)\n",
    "predicted_unscaled_vals = predicted_unscaled_vals[:,:predict_full.shape[1]]\n",
    "\n",
    "# compute the RMSE for each feature in the output vector\n",
    "actual_unscaled_vals = y[get_base_features()].values\n",
    "rmse = np.sqrt(np.square(predicted_unscaled_vals - actual_unscaled_vals))\n",
    "\n",
    "# compute the percentilse of the RMSE to get the confidence interval of each predicted feature\n",
    "ci_up = np.percentile(rmse, 95, axis=0) # 95th percentile\n",
    "ci_low = np.percentile(rmse, 5, axis=0) # 5th percentile\n",
    "print(\"Off by at most this much:\", ci_up.flatten().tolist())\n",
    "print(np.max(actual_unscaled_vals, axis=0))\n",
    "print(np.min(actual_unscaled_vals, axis=0)) \n",
    "# print(ci_low.flatten().tolist()) \n",
    "\n",
    "# TODO: validate these findings with the very basic network to see if it predicts that these stats will land us in our desired class\n",
    "np.set_printoptions(suppress=True, precision=4)\n",
    "print(confidence_interval_numpy(predicted_unscaled_vals, actual_unscaled_vals)) # requires the assumption of gaussianity, but seems to be working?\n",
    "\n",
    "\n",
    "print(bootstrap_confidence_interval(predicted_unscaled_vals, actual_unscaled_vals)) # should be able to work without the assumption of gaussianity\n",
    "# computing for rmse, so says that the true root mean squared error has a 95% of landing in these intervals\n",
    "# residuals are likely far smaller because you have the negatives balancing things out so it is going to be less accurate for computing the confidence interval\n",
    "\n",
    "residuals = predicted_unscaled_vals - actual_unscaled_vals\n",
    "ci = np.quantile(residuals, 1 - 0.05, axis=0)\n",
    "print(\"HELLO\")\n",
    "print(ci)\n",
    "\n",
    "# I want to say that my prediction is between these 2 bounds with 95% confidence\n",
    "# The two functions I provided seem to find the rmse of each parameter with 95% confidence\n",
    "# the first and 4th method I try do not scale the mean of the data and therefore, I don't think they necessarily apply to giving me the confidence interval I desire\n",
    "\n",
    "\n",
    "\n"
   ]
  },
  {
   "cell_type": "code",
   "execution_count": 162,
   "metadata": {},
   "outputs": [
    {
     "name": "stdout",
     "output_type": "stream",
     "text": [
      "MSE:  0.5062924385242248\n",
      "RMSE:  0.7115422956678153\n"
     ]
    }
   ],
   "source": [
    "from sklearn.ensemble import RandomForestRegressor \n",
    "random_forest_model = RandomForestRegressor(n_estimators = 60, random_state = 0)\n",
    "\n",
    "random_forest_model.fit(X_train, y_train) \n",
    "\n",
    "y_pred = random_forest_model.predict(X_test)\n",
    "\n",
    "mse = mean_squared_error(y_test, y_pred)\n",
    "rmse = np.sqrt(mean_squared_error(y_test, y_pred))\n",
    "print(\"MSE: \",mse)\n",
    "print(\"RMSE: \",rmse)\n"
   ]
  }
 ],
 "metadata": {
  "kernelspec": {
   "display_name": "Python 3",
   "language": "python",
   "name": "python3"
  },
  "language_info": {
   "codemirror_mode": {
    "name": "ipython",
    "version": 3
   },
   "file_extension": ".py",
   "mimetype": "text/x-python",
   "name": "python",
   "nbconvert_exporter": "python",
   "pygments_lexer": "ipython3",
   "version": "3.10.11"
  },
  "orig_nbformat": 4
 },
 "nbformat": 4,
 "nbformat_minor": 2
}
