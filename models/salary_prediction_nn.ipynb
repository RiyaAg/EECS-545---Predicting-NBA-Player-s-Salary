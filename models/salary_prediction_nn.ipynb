{
 "cells": [
  {
   "cell_type": "code",
   "execution_count": 1,
   "metadata": {},
   "outputs": [],
   "source": [
    "# Setup autoreload\n",
    "%load_ext autoreload\n",
    "%autoreload 2\n",
    "\n",
    "# Give yourself access to common\n",
    "import os\n",
    "import sys\n",
    "module_path = os.path.abspath(os.path.join('..'))\n",
    "if module_path not in sys.path:\n",
    "    sys.path.append(module_path)"
   ]
  },
  {
   "cell_type": "code",
   "execution_count": 32,
   "metadata": {},
   "outputs": [
    {
     "name": "stderr",
     "output_type": "stream",
     "text": [
      "c:\\Users\\mmart\\Programming\\EECS545\\project\\EECS-545---Predicting-NBA-Player-s-Salary\\common.py:20: SettingWithCopyWarning: \n",
      "A value is trying to be set on a copy of a slice from a DataFrame.\n",
      "Try using .loc[row_indexer,col_indexer] = value instead\n",
      "\n",
      "See the caveats in the documentation: https://pandas.pydata.org/pandas-docs/stable/user_guide/indexing.html#returning-a-view-versus-a-copy\n",
      "  return nba\n"
     ]
    },
    {
     "name": "stdout",
     "output_type": "stream",
     "text": [
      "['MP', 'PTS', 'Age', 'games', 'games_started', 'PER', 'FTr', 'AST', 'STL', 'TRB', 'FT', '3P', 'FG', 'future_salary_class']\n",
      "RangeIndex(start=0, stop=1, step=1)\n",
      "Index(['playerName', 'seasonStartYear', 'salary', 'inflationAdjSalary',\n",
      "       'startYear', 'position', 'height', 'weight', 'MP', 'PTS', 'Age', 'team',\n",
      "       'games', 'games_started', 'PER', 'FTr', 'AST', 'STL', 'TRB', 'FT', '3P',\n",
      "       'FG', 'inflationAdjSalary_log'],\n",
      "      dtype='object')\n",
      "3\n",
      "1\n",
      "56169715\n",
      "Index(['MP', 'PTS', 'Age', 'games', 'games_started', 'PER', 'FTr', 'AST',\n",
      "       'STL', 'TRB', 'FT', '3P', 'FG', 'future_salary_class'],\n",
      "      dtype='object')\n"
     ]
    },
    {
     "ename": "AttributeError",
     "evalue": "'DataFrame' object has no attribute 'append'",
     "output_type": "error",
     "traceback": [
      "\u001b[1;31m---------------------------------------------------------------------------\u001b[0m",
      "\u001b[1;31mAttributeError\u001b[0m                            Traceback (most recent call last)",
      "Cell \u001b[1;32mIn[32], line 45\u001b[0m\n\u001b[0;32m     43\u001b[0m         new_row \u001b[39m=\u001b[39m pd\u001b[39m.\u001b[39mconcat([a,b])\n\u001b[0;32m     44\u001b[0m         \u001b[39mprint\u001b[39m(new_row\u001b[39m.\u001b[39mindex)\n\u001b[1;32m---> 45\u001b[0m         X\u001b[39m.\u001b[39;49mappend(new_row, ignore_index\u001b[39m=\u001b[39m\u001b[39mTrue\u001b[39;00m)\n\u001b[0;32m     46\u001b[0m         y\u001b[39m.\u001b[39mappend(cur_player_stats\u001b[39m.\u001b[39mloc[i\u001b[39m+\u001b[39m\u001b[39m1\u001b[39m][get_nn_features()])\n\u001b[0;32m     48\u001b[0m \u001b[39mprint\u001b[39m(X\u001b[39m.\u001b[39mloc[\u001b[39m0\u001b[39m:\u001b[39m3\u001b[39m])\n",
      "File \u001b[1;32mc:\\Users\\mmart\\AppData\\Local\\Programs\\Python\\Python310\\lib\\site-packages\\pandas\\core\\generic.py:5989\u001b[0m, in \u001b[0;36mNDFrame.__getattr__\u001b[1;34m(self, name)\u001b[0m\n\u001b[0;32m   5982\u001b[0m \u001b[39mif\u001b[39;00m (\n\u001b[0;32m   5983\u001b[0m     name \u001b[39mnot\u001b[39;00m \u001b[39min\u001b[39;00m \u001b[39mself\u001b[39m\u001b[39m.\u001b[39m_internal_names_set\n\u001b[0;32m   5984\u001b[0m     \u001b[39mand\u001b[39;00m name \u001b[39mnot\u001b[39;00m \u001b[39min\u001b[39;00m \u001b[39mself\u001b[39m\u001b[39m.\u001b[39m_metadata\n\u001b[0;32m   5985\u001b[0m     \u001b[39mand\u001b[39;00m name \u001b[39mnot\u001b[39;00m \u001b[39min\u001b[39;00m \u001b[39mself\u001b[39m\u001b[39m.\u001b[39m_accessors\n\u001b[0;32m   5986\u001b[0m     \u001b[39mand\u001b[39;00m \u001b[39mself\u001b[39m\u001b[39m.\u001b[39m_info_axis\u001b[39m.\u001b[39m_can_hold_identifiers_and_holds_name(name)\n\u001b[0;32m   5987\u001b[0m ):\n\u001b[0;32m   5988\u001b[0m     \u001b[39mreturn\u001b[39;00m \u001b[39mself\u001b[39m[name]\n\u001b[1;32m-> 5989\u001b[0m \u001b[39mreturn\u001b[39;00m \u001b[39mobject\u001b[39;49m\u001b[39m.\u001b[39;49m\u001b[39m__getattribute__\u001b[39;49m(\u001b[39mself\u001b[39;49m, name)\n",
      "\u001b[1;31mAttributeError\u001b[0m: 'DataFrame' object has no attribute 'append'"
     ]
    }
   ],
   "source": [
    "# Gather training and testing data and process it to be configured for time intervals\n",
    "from common import get_baseline_data, get_nn_features, get_salary_class\n",
    "from sklearn.model_selection import train_test_split\n",
    "import pandas as pd\n",
    "\n",
    "INF_ADJ_SAL = 'inflationAdjSalary'\n",
    "nba = get_baseline_data('../data/cleaned_data/base_cleaned.csv')\n",
    "X = nba[get_nn_features()].values\n",
    "y = nba[[INF_ADJ_SAL]].values\n",
    "# print(y.max())\n",
    "# y = y/y.max() # removing the normalization seems to be having a large negative effect\n",
    "FUT_SAL_CLASS = 'future_salary_class'\n",
    "tmp = get_nn_features()\n",
    "tmp.append(FUT_SAL_CLASS)\n",
    "print(tmp)\n",
    "X = pd.DataFrame(tmp)\n",
    "print(X.columns)\n",
    "y = pd.DataFrame(get_nn_features())\n",
    "\n",
    "players_w_multiple_salaries = []\n",
    "for i in pd.unique(nba['playerName']) :\n",
    "    if nba['playerName'].value_counts()[i] > 1 :\n",
    "        players_w_multiple_salaries.append(i)\n",
    "\n",
    "# Build X and y data\n",
    "# X = player_stats @ time t, salary_class at time t+1\n",
    "# y = player_stats @ time t+1\n",
    "max_sal = nba[INF_ADJ_SAL].max()\n",
    "min_sal = nba[INF_ADJ_SAL].min()\n",
    "for player in players_w_multiple_salaries :\n",
    "    cur_player_stats = nba.loc[nba['playerName'] == player]\n",
    "    for i, row in cur_player_stats.iterrows() :\n",
    "        if i == cur_player_stats.shape[0] - 2:\n",
    "            break\n",
    "        \n",
    "        print(cur_player_stats.columns)\n",
    "        print(cur_player_stats.shape[0])\n",
    "        print(i+1)\n",
    "        print(cur_player_stats.iloc[i+1][INF_ADJ_SAL])\n",
    "        \n",
    "        a = row[get_nn_features()]\n",
    "        b = pd.Series(get_salary_class(cur_player_stats.iloc[i+1][INF_ADJ_SAL], max_sal, min_sal), index=[FUT_SAL_CLASS])\n",
    "        new_row = pd.concat([a,b])\n",
    "        print(new_row.index)\n",
    "        X.append(new_row, ignore_index=True)\n",
    "        y.append(cur_player_stats.iloc[i+1][get_nn_features()])\n",
    "\n",
    "print(X.loc[0:3])\n",
    "print(y.loc[0:3])      \n",
    "            \n",
    "\n",
    "# X_train, X_test, y_train, y_test = train_test_split(X, y, test_size = 0.25, random_state=42)\n"
   ]
  }
 ],
 "metadata": {
  "kernelspec": {
   "display_name": "Python 3",
   "language": "python",
   "name": "python3"
  },
  "language_info": {
   "codemirror_mode": {
    "name": "ipython",
    "version": 3
   },
   "file_extension": ".py",
   "mimetype": "text/x-python",
   "name": "python",
   "nbconvert_exporter": "python",
   "pygments_lexer": "ipython3",
   "version": "3.10.11"
  },
  "orig_nbformat": 4
 },
 "nbformat": 4,
 "nbformat_minor": 2
}
