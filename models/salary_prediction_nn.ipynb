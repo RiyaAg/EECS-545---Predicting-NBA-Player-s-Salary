{
 "cells": [
  {
   "cell_type": "code",
   "execution_count": 26,
   "metadata": {},
   "outputs": [
    {
     "name": "stdout",
     "output_type": "stream",
     "text": [
      "The autoreload extension is already loaded. To reload it, use:\n",
      "  %reload_ext autoreload\n"
     ]
    }
   ],
   "source": [
    "# Setup autoreload\n",
    "%load_ext autoreload\n",
    "%autoreload 2\n",
    "\n",
    "# Give yourself access to common\n",
    "import os\n",
    "import sys\n",
    "module_path = os.path.abspath(os.path.join('..'))\n",
    "if module_path not in sys.path:\n",
    "    sys.path.append(module_path)"
   ]
  },
  {
   "cell_type": "code",
   "execution_count": 27,
   "metadata": {},
   "outputs": [],
   "source": [
    "# Gather training and testing data and process it to be configured for time intervals\n",
    "from common import *\n",
    "from sklearn.model_selection import train_test_split\n",
    "import pandas as pd\n",
    "\n",
    "nba = get_next_year_external_data()\n",
    "\n",
    "FUT_SAL_CLASS = 'future_salary_class'\n",
    "max = nba[NEXT_Y_SAL].max()\n",
    "min = nba[NEXT_Y_SAL].min()\n",
    "nba[FUT_SAL_CLASS] = nba[NEXT_Y_SAL].apply(lambda x: get_salary_class(x,max,min))\n",
    "# feats = get_extern_features()\n",
    "feats = get_base_features()\n",
    "feats.append(FUT_SAL_CLASS)\n",
    "\n",
    "X = pd.DataFrame(columns=feats)\n",
    "y = pd.DataFrame()\n",
    "\n",
    "for i, row in nba.iterrows() :\n",
    "    next_val = nba.loc[((nba[P_NAME] == row[P_NAME]) & (nba[SZN_START_Y] == (row[SZN_START_Y]+1)))]  \n",
    "    if not next_val.empty :\n",
    "        nba.loc[i,'y'] = next_val.index[0]\n",
    "    else :\n",
    "        nba.loc[i,'y'] = np.nan\n",
    "\n",
    "X = nba.copy(deep=True)\n",
    "X = X.dropna()\n",
    "y = nba.loc[X['y']]"
   ]
  },
  {
   "cell_type": "code",
   "execution_count": 28,
   "metadata": {},
   "outputs": [
    {
     "name": "stdout",
     "output_type": "stream",
     "text": [
      "Index(['MP', 'PTS', 'Age', 'games', 'games_started', 'PER', 'FTr', 'AST',\n",
      "       'STL', 'TRB', 'FT', '3P', 'FG', 'height', 'weight', 'seasonStartYear',\n",
      "       'startYear', 'all_star_total', 'all_star_enc', 'all_nba_enc',\n",
      "       'all_nba_total', 'draft_pick', 'champion', 'conference_champ', 'mvp',\n",
      "       'mvp_rank', 'mvp_total', 'player_week_enc', 'player_week_total', 'dpoy',\n",
      "       'dpoy_rank', 'dpoy_total', 'future_salary_class'],\n",
      "      dtype='object')\n",
      "Index(['MP', 'PTS', 'Age', 'games', 'games_started', 'PER', 'FTr', 'AST',\n",
      "       'STL', 'TRB', 'FT', '3P', 'FG', 'height', 'weight', 'seasonStartYear',\n",
      "       'startYear', 'all_star_total', 'all_star_enc', 'all_nba_enc',\n",
      "       'all_nba_total', 'draft_pick', 'champion', 'conference_champ', 'mvp',\n",
      "       'mvp_rank', 'mvp_total', 'player_week_enc', 'player_week_total', 'dpoy',\n",
      "       'dpoy_rank', 'dpoy_total', 'future_salary_class'],\n",
      "      dtype='object')\n",
      "655.0\n",
      "2.228594445658938\n",
      "655.0\n"
     ]
    }
   ],
   "source": [
    "# Normalize the data\n",
    "# print(X.columns)\n",
    "# print(y.columns)\n",
    "X = X[feats]\n",
    "y = y[feats]\n",
    "print(X.columns)\n",
    "print(y.columns)\n",
    "# Scale the stuff down\n",
    "from sklearn.preprocessing import StandardScaler\n",
    "scaler = StandardScaler()\n",
    "scaler.fit(X)\n",
    "X_scaled = scaler.transform(X)\n",
    "y_scaled = scaler.transform(y)\n",
    "y_scaled = y_scaled[:,:(len(get_base_features()))]\n",
    "\n",
    "# Sanity check the scaler\n",
    "print((X['FG']).iloc[0])\n",
    "print(X_scaled[0, X.columns.get_loc('FG')])\n",
    "inv = scaler.inverse_transform(X_scaled)\n",
    "print(inv[0, X.columns.get_loc('FG')])\n",
    "\n",
    "\n",
    "X_train, X_test, y_train, y_test = train_test_split(X_scaled, y_scaled, test_size = 0.25, random_state=42)"
   ]
  },
  {
   "cell_type": "code",
   "execution_count": 29,
   "metadata": {},
   "outputs": [
    {
     "name": "stdout",
     "output_type": "stream",
     "text": [
      "R_squared value:  0.5985229671951953\n",
      "RMSE:  0.6551491530065454\n",
      "MSE: 0.42922041268519384\n"
     ]
    },
    {
     "data": {
      "text/plain": [
       "array([[ 0.8784,  0.5664,  1.503 , ...,  0.5788,  1.6408,  0.7872],\n",
       "       [ 0.8065,  0.8959,  1.2436, ...,  0.9473,  0.8153,  0.1395],\n",
       "       [ 0.3332,  0.2244,  0.7249, ...,  0.3237, -0.5605,  0.1036],\n",
       "       ...,\n",
       "       [ 0.0577, -0.0595, -0.3124, ..., -0.0505, -0.5605, -0.2203],\n",
       "       [ 0.6994,  0.8628, -0.5718, ...,  0.9643, -1.3859, -0.4721],\n",
       "       [ 0.4734,  0.2058,  0.7249, ...,  0.1423, -0.0101, -0.2203]])"
      ]
     },
     "execution_count": 29,
     "metadata": {},
     "output_type": "execute_result"
    }
   ],
   "source": [
    "\n",
    "# Fit the model\n",
    "from sklearn.neural_network import MLPRegressor\n",
    "import numpy as np\n",
    "\n",
    "# MLPClassifier only classifies data as integers or strings, therefore, our problem is one of regression for the neural network\n",
    "# Consequently I should use the mlp regressor\n",
    "mlp = MLPRegressor(hidden_layer_sizes=(10,10,10), solver='adam', max_iter=1000)\n",
    "mlp.fit(X_train,y_train)\n",
    "\n",
    "# Evaluate the model\n",
    "import numpy as np\n",
    "from sklearn.metrics import mean_squared_error\n",
    "predict_test = mlp.predict(X_test)\n",
    "test_set_rsquared = mlp.score(X_test, y_test)\n",
    "test_set_rmse = np.sqrt(mean_squared_error(predict_test, y_test))\n",
    "test_set_mse = mean_squared_error(predict_test, y_test)\n",
    "print('R_squared value: ', test_set_rsquared) # Variances are not nicely correlated\n",
    "print('RMSE: ', test_set_rmse) # Fairly good at data prediction\n",
    "print('MSE:', test_set_mse)\n",
    "y_test"
   ]
  },
  {
   "cell_type": "code",
   "execution_count": 30,
   "metadata": {},
   "outputs": [
    {
     "name": "stdout",
     "output_type": "stream",
     "text": [
      "33\n",
      "[[ 0.0837  0.6395  1.9885 -0.2563  0.1779  1.2658  1.4456 -0.5428 -0.6458\n",
      "   0.8913  1.0369 -0.663   0.7304  1.7721  1.0699]]\n",
      "[[ 0.0837  0.6395  1.9885 -0.2563  0.1779  1.2658  1.4456 -0.5428 -0.6458\n",
      "   0.8913  1.0369 -0.663   0.7304  1.7721  1.0699  0.      0.      0.\n",
      "   0.      0.      0.      0.      0.      0.      0.      0.      0.\n",
      "   0.      0.      0.      0.      0.      0.    ]]\n",
      "[1745.0678853833579, 1009.2770367390337, 33.87184330438497, 58.43818875641746, 42.42270482521228, 20.392981318796444, 0.5584433678393097, 72.60930494638221, 30.146916627467295, 477.7716626631144, 257.02906644125653, 7.460894534901946, 390.7389309020293]\n",
      "MP               848.000\n",
      "PTS              540.000\n",
      "Age               35.000\n",
      "games             26.000\n",
      "games_started     26.000\n",
      "PER               23.300\n",
      "FTr                0.462\n",
      "AST               28.000\n",
      "STL               16.000\n",
      "TRB              265.000\n",
      "FT               134.000\n",
      "3P                 0.000\n",
      "FG               203.000\n",
      "height            84.000\n",
      "weight           240.000\n",
      "Name: 444, dtype: float64\n"
     ]
    }
   ],
   "source": [
    "# Denormalize the data\n",
    "predict_test = mlp.predict((X_scaled[0]).reshape(1,-1))\n",
    "print(X_train.shape[1])\n",
    "print(predict_test)\n",
    "tmp = np.zeros((1,X_train.shape[1]))\n",
    "tmp[:,:predict_test.shape[1]] = predict_test\n",
    "print(tmp)\n",
    "undone = scaler.inverse_transform(tmp)\n",
    "print(undone.flatten().tolist()[:13])\n",
    "print(y[get_base_features()].iloc[0])"
   ]
  },
  {
   "cell_type": "code",
   "execution_count": 31,
   "metadata": {},
   "outputs": [
    {
     "name": "stdout",
     "output_type": "stream",
     "text": [
      "Off by at most this much: [1163.130727511755, 569.8916775464158, 1.3083402996734628, 35.7985248979969, 43.924468356065454, 5.5748947578512675, 0.19573023049432778, 177.40656491928468, 50.065130631436, 278.6203507102703, 134.81834674112804, 65.63120625328656, 215.47248126445828, 1.5506634277808182, 11.809877308196148]\n",
      "[3485.  2832.    40.    85.    83.    45.3    6.   925.   225.  1226.\n",
      "  756.   402.   978.    90.   325. ]\n",
      "[  1.    0.   19.    1.    0.  -40.7   0.    0.    0.    0.    0.    0.\n",
      "   0.   63.  135. ]\n",
      "[[477.89   498.4262]\n",
      " [215.9425 226.0847]\n",
      " [  0.4079   0.4386]\n",
      " [ 13.69    14.3045]\n",
      " [ 18.4693  19.2184]\n",
      " [  2.1044   2.2227]\n",
      " [  0.0704   0.0766]\n",
      " [ 56.9093  60.2209]\n",
      " [ 18.2957  19.1819]\n",
      " [ 96.9404 101.991 ]\n",
      " [ 48.4484  50.9743]\n",
      " [ 20.5899  21.8274]\n",
      " [ 82.5575  86.3891]\n",
      " [  0.5393   0.5711]\n",
      " [  4.2366   4.4635]]\n",
      "{'column_0': (477.305878795477, 497.4138690145247), 'column_1': (216.3853769696766, 226.07537867142577), 'column_2': (0.4082456708604416, 0.43996051105639045), 'column_3': (13.681365300588508, 14.298601595282728), 'column_4': (18.494650140007177, 19.212232366379187), 'column_5': (2.101470829004475, 2.224135831092737), 'column_6': (0.0707075626827865, 0.07666660974434387), 'column_7': (56.78444092676941, 60.27295871460411), 'column_8': (18.317243054181617, 19.157013436955058), 'column_9': (97.08201695023757, 102.04463018485416), 'column_10': (48.42611281910548, 50.89989573016753), 'column_11': (20.644731018623503, 21.768751019555914), 'column_12': (82.59945833266487, 86.26140985719526), 'column_13': (0.5386193237074972, 0.5709845805710497), 'column_14': (4.237161604727132, 4.467007809400381)}\n",
      "HELLO\n",
      "[1047.5007  466.3335    0.9208   35.7985   36.5602    4.5954    0.1421\n",
      "  118.5779   36.9731  210.7978  101.0816   43.9664  174.6644    1.2501\n",
      "    8.049 ]\n"
     ]
    }
   ],
   "source": [
    "# Compute the confidence interval of each of the features\n",
    "from common import *\n",
    "\n",
    "# Get the unscaled predictions\n",
    "predict_full = mlp.predict(X_scaled)\n",
    "tmp = np.zeros(X_scaled.shape)\n",
    "tmp[:,:predict_full.shape[1]] = predict_full\n",
    "predicted_unscaled_vals = scaler.inverse_transform(tmp)\n",
    "predicted_unscaled_vals = predicted_unscaled_vals[:,:predict_full.shape[1]]\n",
    "\n",
    "# compute the RMSE for each feature in the output vector\n",
    "actual_unscaled_vals = y[get_base_features()].values\n",
    "rmse = np.sqrt(np.square(predicted_unscaled_vals - actual_unscaled_vals))\n",
    "\n",
    "# compute the percentilse of the RMSE to get the confidence interval of each predicted feature\n",
    "ci_up = np.percentile(rmse, 95, axis=0) # 95th percentile\n",
    "ci_low = np.percentile(rmse, 5, axis=0) # 5th percentile\n",
    "print(\"Off by at most this much:\", ci_up.flatten().tolist())\n",
    "print(np.max(actual_unscaled_vals, axis=0))\n",
    "print(np.min(actual_unscaled_vals, axis=0)) \n",
    "# print(ci_low.flatten().tolist()) \n",
    "\n",
    "# TODO: validate these findings with the very basic network to see if it predicts that these stats will land us in our desired class\n",
    "np.set_printoptions(suppress=True, precision=4)\n",
    "print(confidence_interval_numpy(predicted_unscaled_vals, actual_unscaled_vals)) # requires the assumption of gaussianity, but seems to be working?\n",
    "\n",
    "\n",
    "print(bootstrap_confidence_interval(predicted_unscaled_vals, actual_unscaled_vals)) # should be able to work without the assumption of gaussianity\n",
    "# computing for rmse, so says that the true root mean squared error has a 95% of landing in these intervals\n",
    "# residuals are likely far smaller because you have the negatives balancing things out so it is going to be less accurate for computing the confidence interval\n",
    "\n",
    "residuals = predicted_unscaled_vals - actual_unscaled_vals\n",
    "ci = np.quantile(residuals, 1 - 0.05, axis=0)\n",
    "print(\"HELLO\")\n",
    "print(ci)\n",
    "\n",
    "# I want to say that my prediction is between these 2 bounds with 95% confidence\n",
    "# The two functions I provided seem to find the rmse of each parameter with 95% confidence\n",
    "# the first and 4th method I try do not scale the mean of the data and therefore, I don't think they necessarily apply to giving me the confidence interval I desire\n",
    "\n",
    "\n",
    "\n",
    "# DO A CASE STUDY on an individual\n",
    "# ANALYZE THIS MODEL ON BASELINE AND EXTERNAL\n",
    "\n",
    "\n"
   ]
  },
  {
   "cell_type": "code",
   "execution_count": 32,
   "metadata": {},
   "outputs": [],
   "source": [
    "# from sklearn.ensemble import RandomForestRegressor \n",
    "# random_forest_model = RandomForestRegressor(n_estimators = 60, random_state = 0)\n",
    "\n",
    "# random_forest_model.fit(X_train, y_train) \n",
    "\n",
    "# y_pred = random_forest_model.predict(X_test)\n",
    "\n",
    "# mse = mean_squared_error(y_test, y_pred)\n",
    "# rmse = np.sqrt(mean_squared_error(y_test, y_pred))\n",
    "# print(\"MSE: \",mse)\n",
    "# print(\"RMSE: \",rmse)\n"
   ]
  }
 ],
 "metadata": {
  "kernelspec": {
   "display_name": "Python 3",
   "language": "python",
   "name": "python3"
  },
  "language_info": {
   "codemirror_mode": {
    "name": "ipython",
    "version": 3
   },
   "file_extension": ".py",
   "mimetype": "text/x-python",
   "name": "python",
   "nbconvert_exporter": "python",
   "pygments_lexer": "ipython3",
   "version": "3.10.11"
  },
  "orig_nbformat": 4
 },
 "nbformat": 4,
 "nbformat_minor": 2
}
