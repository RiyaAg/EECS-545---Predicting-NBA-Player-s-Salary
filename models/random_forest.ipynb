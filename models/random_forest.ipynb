{
 "cells": [
  {
   "cell_type": "code",
   "execution_count": 1,
   "id": "f42cb389",
   "metadata": {},
   "outputs": [],
   "source": [
    "# Setup autoreload\n",
    "%load_ext autoreload\n",
    "%autoreload 2\n",
    "\n",
    "# Give yourself access to common\n",
    "import os\n",
    "import sys\n",
    "module_path = os.path.abspath(os.path.join('..'))\n",
    "if module_path not in sys.path:\n",
    "    sys.path.append(module_path)\n",
    "\n",
    "import numpy as np \n",
    "import pandas as pd \n",
    "import matplotlib.pyplot as plt\n",
    "%matplotlib inline\n",
    "\n",
    "from sklearn.model_selection import train_test_split \n",
    "from sklearn.metrics import mean_squared_error\n",
    "from sklearn.ensemble import RandomForestRegressor \n",
    "from sklearn.metrics import r2_score\n",
    "from sklearn.metrics import mean_absolute_error"
   ]
  },
  {
   "cell_type": "code",
   "execution_count": 2,
   "id": "9cd138da",
   "metadata": {},
   "outputs": [
    {
     "name": "stderr",
     "output_type": "stream",
     "text": [
      "c:\\Users\\mmart\\Programming\\EECS545\\project\\EECS-545---Predicting-NBA-Player-s-Salary\\common.py:18: SettingWithCopyWarning: \n",
      "A value is trying to be set on a copy of a slice from a DataFrame.\n",
      "Try using .loc[row_indexer,col_indexer] = value instead\n",
      "\n",
      "See the caveats in the documentation: https://pandas.pydata.org/pandas-docs/stable/user_guide/indexing.html#returning-a-view-versus-a-copy\n",
      "  nba['inflationAdjSalary_log'] = nba['inflationAdjSalary'].apply(lambda x: np.log(x))\n"
     ]
    }
   ],
   "source": [
    "# Gather training and testing data\n",
    "from common import get_baseline_data, get_nn_features\n",
    "\n",
    "nba = get_baseline_data('../data/cleaned_data/base_cleaned.csv')\n",
    "X = nba[get_nn_features()].values\n",
    "y = nba[['inflationAdjSalary_log']].values\n",
    "from sklearn.model_selection import train_test_split\n",
    "X_train, X_test, y_train, y_test = train_test_split(X, y, test_size = 0.25, random_state=42)\n"
   ]
  },
  {
   "cell_type": "code",
   "execution_count": 3,
   "id": "eabd13c3",
   "metadata": {},
   "outputs": [
    {
     "name": "stderr",
     "output_type": "stream",
     "text": [
      "C:\\Users\\mmart\\AppData\\Local\\Temp\\ipykernel_5576\\3265888434.py:3: DataConversionWarning: A column-vector y was passed when a 1d array was expected. Please change the shape of y to (n_samples,), for example using ravel().\n",
      "  random_forest_model.fit(X_train, y_train)\n"
     ]
    },
    {
     "name": "stdout",
     "output_type": "stream",
     "text": [
      "MSE:  0.6920756595230487\n",
      "r2_socre:  0.46102366296582653\n",
      "RMSE:  0.8319108483022978\n",
      "MAE: 0.615568742393725\n"
     ]
    }
   ],
   "source": [
    "random_forest_model = RandomForestRegressor(n_estimators = 10, random_state = 0)\n",
    "\n",
    "random_forest_model.fit(X_train, y_train) \n",
    "\n",
    "y_pred = random_forest_model.predict(X_test)\n",
    "\n",
    "mse = mean_squared_error(y_test, y_pred)\n",
    "rmse = np.sqrt(mean_squared_error(y_test, y_pred))\n",
    "mae = mean_absolute_error(y_test, y_pred)\n",
    "r2_s=r2_score(y_test, y_pred)\n",
    "print(\"MSE: \",mse)\n",
    "print(\"r2_socre: \",r2_s)\n",
    "print(\"RMSE: \",rmse)\n",
    "print(\"MAE:\",mae)\n"
   ]
  },
  {
   "cell_type": "code",
   "execution_count": 4,
   "id": "beb862ce",
   "metadata": {},
   "outputs": [],
   "source": [
    "# plt.scatter(random_forest_model.predict(X_train), random_forest_model.predict(X_train) - y_train.values.reshape((-1,)), c=\"blue\", label=\"Training Data\")\n",
    "# plt.scatter(random_forest_model.predict(X_test), random_forest_model.predict(X_test) - y_test.values.reshape((-1,)), c=\"orange\", label=\"Testing Data\")\n",
    "# plt.legend()\n",
    "# plt.hlines(y=0, xmin=y.min(), xmax=y.max())\n",
    "# plt.title(\"Residual Plot for Random forest\")\n",
    "# plt.savefig('RandomForest.png', dpi=256)"
   ]
  },
  {
   "cell_type": "code",
   "execution_count": 5,
   "id": "053c4b12",
   "metadata": {},
   "outputs": [
    {
     "data": {
      "text/plain": [
       "<BarContainer object of 13 artists>"
      ]
     },
     "execution_count": 5,
     "metadata": {},
     "output_type": "execute_result"
    },
    {
     "data": {
      "image/png": "[encoded data removed]",
      "text/plain": [
       "<Figure size 640x480 with 1 Axes>"
      ]
     },
     "metadata": {},
     "output_type": "display_data"
    }
   ],
   "source": [
    "x=['MP', 'PTS', 'Age', 'games', 'games_started', 'PER', 'FTr', 'AST', 'STL', 'TRB', 'FT', '3P', 'FG']\n",
    "plt.barh(x, random_forest_model.feature_importances_)"
   ]
  },
  {
   "cell_type": "code",
   "execution_count": 6,
   "id": "35804ab2",
   "metadata": {},
   "outputs": [],
   "source": [
    "# Save Model\n",
    "import pickle\n",
    "from common import RF_FILENAME\n",
    "pickle.dump(random_forest_model, open('saved_models/' + RF_FILENAME, 'wb'))"
   ]
  }
 ],
 "metadata": {
  "kernelspec": {
   "display_name": "Python 3 (ipykernel)",
   "language": "python",
   "name": "python3"
  },
  "language_info": {
   "codemirror_mode": {
    "name": "ipython",
    "version": 3
   },
   "file_extension": ".py",
   "mimetype": "text/x-python",
   "name": "python",
   "nbconvert_exporter": "python",
   "pygments_lexer": "ipython3",
   "version": "3.10.11"
  }
 },
 "nbformat": 4,
 "nbformat_minor": 5
}
