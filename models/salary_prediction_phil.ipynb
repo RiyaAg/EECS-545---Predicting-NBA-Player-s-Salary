{
 "cells": [
  {
   "cell_type": "code",
   "execution_count": 155,
   "metadata": {},
   "outputs": [
    {
     "name": "stdout",
     "output_type": "stream",
     "text": [
      "The autoreload extension is already loaded. To reload it, use:\n",
      "  %reload_ext autoreload\n"
     ]
    }
   ],
   "source": [
    "# Setup autoreload\n",
    "%load_ext autoreload\n",
    "%autoreload 2\n",
    "\n",
    "# Give yourself access to common\n",
    "import os\n",
    "import sys\n",
    "module_path = os.path.abspath(os.path.join('..'))\n",
    "if module_path not in sys.path:\n",
    "    sys.path.append(module_path)"
   ]
  },
  {
   "cell_type": "code",
   "execution_count": 156,
   "metadata": {},
   "outputs": [],
   "source": [
    "# Gather training and testing data and process it to be configured for time intervals\n",
    "from common import *\n",
    "from sklearn.model_selection import train_test_split\n",
    "import pandas as pd\n",
    "\n",
    "nba = get_cleaned_external_data(next_year_salary=True)\n",
    "# nba = get_cleaned_baseline_data(next_year_salary=True)\n",
    "FUT_SAL_CLASS = 'future_salary_class'\n",
    "max = nba[NEXT_Y_SAL].max()\n",
    "min = nba[NEXT_Y_SAL].min()\n",
    "nba[FUT_SAL_CLASS] = nba[NEXT_Y_SAL].apply(lambda x: get_salary_class(x,max,min))\n",
    "\n",
    "nba_full = nba.copy(deep=True)\n",
    "for i, row in nba.iterrows() :\n",
    "    next_val = nba.loc[((nba[P_NAME] == row[P_NAME]) & (nba[SZN_START_Y] == (row[SZN_START_Y]+1)))]  \n",
    "    if not next_val.empty :\n",
    "        nba.loc[i,'y'] = next_val.index[0]\n",
    "    else :\n",
    "        nba.loc[i,'y'] = np.nan\n",
    "nba = nba.drop(P_NAME, axis=1)"
   ]
  },
  {
   "cell_type": "code",
   "execution_count": 157,
   "metadata": {},
   "outputs": [
    {
     "name": "stdout",
     "output_type": "stream",
     "text": [
      "Index(['seasonStartYear', 'MP', 'PTS', 'Age', 'games', 'games_started', 'PER',\n",
      "       'FTr', 'AST', 'STL', 'TRB', 'FT', '3P', 'FG', 'height', 'weight',\n",
      "       'inflationAdjSalary', 'startYear', 'all_star_total', 'all_star_enc',\n",
      "       'all_nba_enc', 'all_nba_total', 'draft_pick', 'champion',\n",
      "       'conference_champ', 'mvp', 'mvp_rank', 'mvp_total', 'player_week_enc',\n",
      "       'player_week_total', 'dpoy', 'dpoy_rank', 'dpoy_total',\n",
      "       'next_year_salary', 'future_salary_class', 'y'],\n",
      "      dtype='object')\n",
      "['MP', 'PTS', 'Age', 'games', 'games_started', 'PER', 'FTr', 'AST', 'STL', 'TRB', 'FT', '3P', 'FG', 'height', 'weight', 'inflationAdjSalary', 'startYear', 'all_star_total', 'all_star_enc', 'all_nba_enc', 'all_nba_total', 'draft_pick', 'champion', 'conference_champ', 'mvp', 'mvp_rank', 'mvp_total', 'player_week_enc', 'player_week_total', 'dpoy', 'dpoy_rank', 'dpoy_total', 'future_salary_class']\n",
      "['MP', 'PTS', 'Age', 'games', 'games_started', 'PER', 'FTr', 'AST', 'STL', 'TRB', 'FT', '3P', 'FG', 'height', 'weight']\n",
      "Index(['MP', 'PTS', 'Age', 'games', 'games_started', 'PER', 'FTr', 'AST',\n",
      "       'STL', 'TRB', 'FT', '3P', 'FG', 'height', 'weight',\n",
      "       'inflationAdjSalary', 'startYear', 'all_star_total', 'all_star_enc',\n",
      "       'all_nba_enc', 'all_nba_total', 'draft_pick', 'champion',\n",
      "       'conference_champ', 'mvp', 'mvp_rank', 'mvp_total', 'player_week_enc',\n",
      "       'player_week_total', 'dpoy', 'dpoy_rank', 'dpoy_total',\n",
      "       'future_salary_class'],\n",
      "      dtype='object')\n",
      "Index(['MP', 'PTS', 'Age', 'games', 'games_started', 'PER', 'FTr', 'AST',\n",
      "       'STL', 'TRB', 'FT', '3P', 'FG', 'height', 'weight',\n",
      "       'inflationAdjSalary', 'startYear', 'all_star_total', 'all_star_enc',\n",
      "       'all_nba_enc', 'all_nba_total', 'draft_pick', 'champion',\n",
      "       'conference_champ', 'mvp', 'mvp_rank', 'mvp_total', 'player_week_enc',\n",
      "       'player_week_total', 'dpoy', 'dpoy_rank', 'dpoy_total',\n",
      "       'future_salary_class'],\n",
      "      dtype='object')\n",
      "655.0\n",
      "2.228594445658938\n",
      "655.0\n"
     ]
    }
   ],
   "source": [
    "\n",
    "# Normalize the data\n",
    "print(nba.columns)\n",
    "# print(y.columns)\n",
    "feats = nba.columns[1:-3]\n",
    "feats = list(feats)\n",
    "orig_feats = feats\n",
    "feats = feats + [FUT_SAL_CLASS]\n",
    "base_feats = feats[:15]\n",
    "print(feats)\n",
    "print(base_feats)\n",
    "\n",
    "X = pd.DataFrame(columns=feats)\n",
    "y = pd.DataFrame()\n",
    "X = nba.copy(deep=True)\n",
    "X = X.dropna()\n",
    "y = nba.loc[X['y']]\n",
    "\n",
    "X = X[feats]\n",
    "y = y[feats]\n",
    "print(X.columns)\n",
    "print(y.columns)\n",
    "# Scale the stuff down\n",
    "from sklearn.preprocessing import StandardScaler\n",
    "scaler = StandardScaler()\n",
    "scaler.fit(X)\n",
    "X_scaled = scaler.transform(X)\n",
    "y_scaled = scaler.transform(y)\n",
    "y_scaled = y_scaled[:,:(len(base_feats))]\n",
    "\n",
    "# Sanity check the scaler\n",
    "print((X['FG']).iloc[0])\n",
    "print(X_scaled[0, X.columns.get_loc('FG')])\n",
    "inv = scaler.inverse_transform(X_scaled)\n",
    "print(inv[0, X.columns.get_loc('FG')])\n",
    "\n",
    "\n",
    "X_train, X_test, y_train, y_test = train_test_split(X_scaled, y_scaled, test_size = 0.25, random_state=42)"
   ]
  },
  {
   "cell_type": "code",
   "execution_count": 158,
   "metadata": {},
   "outputs": [
    {
     "name": "stdout",
     "output_type": "stream",
     "text": [
      "R_squared value:  0.5872203601181804\n",
      "RMSE:  0.6631353941951874\n",
      "MSE: 0.43974855103440663\n"
     ]
    },
    {
     "data": {
      "text/plain": [
       "array([[ 0.8784,  0.5664,  1.503 , ...,  0.5788,  1.6408,  0.7872],\n",
       "       [ 0.8065,  0.8959,  1.2436, ...,  0.9473,  0.8153,  0.1395],\n",
       "       [ 0.3332,  0.2244,  0.7249, ...,  0.3237, -0.5605,  0.1036],\n",
       "       ...,\n",
       "       [ 0.0577, -0.0595, -0.3124, ..., -0.0505, -0.5605, -0.2203],\n",
       "       [ 0.6994,  0.8628, -0.5718, ...,  0.9643, -1.3859, -0.4721],\n",
       "       [ 0.4734,  0.2058,  0.7249, ...,  0.1423, -0.0101, -0.2203]])"
      ]
     },
     "execution_count": 158,
     "metadata": {},
     "output_type": "execute_result"
    }
   ],
   "source": [
    "\n",
    "\n",
    "# Fit the model\n",
    "from sklearn.neural_network import MLPRegressor\n",
    "import numpy as np\n",
    "\n",
    "# MLPClassifier only classifies data as integers or strings, therefore, our problem is one of regression for the neural network\n",
    "# Consequently I should use the mlp regressor\n",
    "mlp = MLPRegressor(hidden_layer_sizes=(10,10,10), solver='adam', max_iter=1000)\n",
    "mlp.fit(X_train,y_train)\n",
    "\n",
    "# Evaluate the model\n",
    "import numpy as np\n",
    "from sklearn.metrics import mean_squared_error\n",
    "predict_test = mlp.predict(X_test)\n",
    "test_set_rsquared = mlp.score(X_test, y_test)\n",
    "test_set_rmse = np.sqrt(mean_squared_error(predict_test, y_test))\n",
    "test_set_mse = mean_squared_error(predict_test, y_test)\n",
    "print('R_squared value: ', test_set_rsquared) # Variances are not nicely correlated\n",
    "print('RMSE: ', test_set_rmse) # Fairly good at data prediction\n",
    "print('MSE:', test_set_mse)\n",
    "y_test"
   ]
  },
  {
   "cell_type": "code",
   "execution_count": 159,
   "metadata": {},
   "outputs": [
    {
     "name": "stdout",
     "output_type": "stream",
     "text": [
      "33\n",
      "[[ 0.2875  0.4635  1.6354 -0.0524  0.6071  0.9263  1.1716 -0.3997 -0.43\n",
      "   1.3141  0.7797 -0.8396  0.4818  1.2322  1.3888]]\n",
      "[[ 0.2875  0.4635  1.6354 -0.0524  0.6071  0.9263  1.1716 -0.3997 -0.43\n",
      "   1.3141  0.7797 -0.8396  0.4818  1.2322  1.3888  0.      0.      0.\n",
      "   0.      0.      0.      0.      0.      0.      0.      0.      0.\n",
      "   0.      0.      0.      0.      0.      0.    ]]\n",
      "[1918.1648457266144, 924.3633669738508, 32.51052237546615, 62.33964719642823, 55.460791888233004, 18.835909896068436, 0.5133667970973005, 93.861890134747, 38.01857012030667, 564.002482392147, 227.0830834069988, -1.373276290166352, 346.8850438890649]\n",
      "MP               848.000\n",
      "PTS              540.000\n",
      "Age               35.000\n",
      "games             26.000\n",
      "games_started     26.000\n",
      "PER               23.300\n",
      "FTr                0.462\n",
      "AST               28.000\n",
      "STL               16.000\n",
      "TRB              265.000\n",
      "FT               134.000\n",
      "3P                 0.000\n",
      "FG               203.000\n",
      "height            84.000\n",
      "weight           240.000\n",
      "Name: 444, dtype: float64\n"
     ]
    }
   ],
   "source": [
    "# Denormalize the data\n",
    "predict_test = mlp.predict((X_scaled[0]).reshape(1,-1))\n",
    "print(X_train.shape[1])\n",
    "print(predict_test)\n",
    "tmp = np.zeros((1,X_train.shape[1]))\n",
    "tmp[:,:predict_test.shape[1]] = predict_test\n",
    "print(tmp)\n",
    "undone = scaler.inverse_transform(tmp)\n",
    "print(undone.flatten().tolist()[:13])\n",
    "print(y[base_feats].iloc[0])"
   ]
  },
  {
   "cell_type": "code",
   "execution_count": 183,
   "metadata": {},
   "outputs": [
    {
     "name": "stdout",
     "output_type": "stream",
     "text": [
      "Phil Pressey Stats 2014\n",
      "    MP   PTS  Age  games  games_started  PER   FTr   AST  STL   TRB   FT   3P   FG  height  weight  inflationAdjSalary  startYear  all_star_total  all_star_enc  all_nba_enc  all_nba_total  draft_pick  champion  conference_champ  mvp  mvp_rank  mvp_total  player_week_enc  player_week_total  dpoy  dpoy_rank  dpoy_total\n",
      "1132.0 213.0 22.0   75.0           11.0  8.8 0.178 241.0 68.0 105.0 29.0 28.0 78.0    71.0   175.0              930738     2014.0               0             0            0              0       10000         0                 0    0    100000          0                0                  0     0     100000           0\n",
      "41412563.0\n",
      "20080.0\n",
      "0\n",
      "Required stats to level up\n",
      "['MP', 'PTS', 'Age', 'games', 'games_started', 'PER', 'FTr', 'AST', 'STL', 'TRB', 'FT', '3P', 'FG', 'height', 'weight']\n",
      "[[1268.238   439.8141   22.6207   57.8848   17.0063   12.175     0.2097\n",
      "   248.743    52.4781   38.9637   73.4289   36.8592  150.8297   71.7784\n",
      "   177.6307]]\n",
      "[[1748.4447  619.3968   21.854    64.7337   32.2561   13.1288    0.2586\n",
      "   283.6649   71.4506  137.6923  113.8156   39.7729  219.7781   72.4639\n",
      "   181.7139]]\n",
      "   MP   PTS  Age  games  games_started  PER   FTr   AST  STL  TRB   FT   3P   FG  height  weight  inflationAdjSalary  startYear  all_star_total  all_star_enc  all_nba_enc  all_nba_total  draft_pick  champion  conference_champ  mvp  mvp_rank  mvp_total  player_week_enc  player_week_total  dpoy  dpoy_rank  dpoy_total\n",
      "600.0 177.0 23.0   50.0            0.0 11.8 0.282 117.0 30.0 80.0 33.0 16.0 64.0    71.0   175.0             1154628     2014.0               0             0            0              0       10000         0                 0    0    100000          0                0                  0     0     100000           0\n",
      "0\n"
     ]
    },
    {
     "name": "stderr",
     "output_type": "stream",
     "text": [
      "c:\\Users\\mmart\\Programming\\EECS545\\project\\EECS-545---Predicting-NBA-Player-s-Salary\\common.py:28: FutureWarning: Calling float on a single element Series is deprecated and will raise a TypeError in the future. Use float(ser.iloc[0]) instead\n",
      "  def get_baseline_data(file: str) :\n",
      "c:\\Users\\mmart\\AppData\\Local\\Programs\\Python\\Python310\\lib\\site-packages\\sklearn\\base.py:439: UserWarning: X does not have valid feature names, but StandardScaler was fitted with feature names\n",
      "  warnings.warn(\n",
      "c:\\Users\\mmart\\AppData\\Local\\Programs\\Python\\Python310\\lib\\site-packages\\sklearn\\base.py:439: UserWarning: X does not have valid feature names, but StandardScaler was fitted with feature names\n",
      "  warnings.warn(\n",
      "c:\\Users\\mmart\\Programming\\EECS545\\project\\EECS-545---Predicting-NBA-Player-s-Salary\\common.py:28: FutureWarning: Calling float on a single element Series is deprecated and will raise a TypeError in the future. Use float(ser.iloc[0]) instead\n",
      "  def get_baseline_data(file: str) :\n"
     ]
    },
    {
     "data": {
      "text/plain": [
       "\"Column Values: \\n    'MP', 'PTS', 'Age', 'games', 'games_started', 'PER', 'FTr', 'AST',\\n       'STL', 'TRB', 'FT', '3P', 'FG', 'height', 'weight',\\n       'inflationAdjSalary', 'startYear', 'all_star_total', 'all_star_enc',\\n       'all_nba_enc', 'all_nba_total', 'draft_pick', 'champion',\\n       'conference_champ', 'mvp', 'mvp_rank', 'mvp_total', 'player_week_enc',\\n       'player_week_total', 'dpoy', 'dpoy_rank', 'dpoy_total',\\n       'future_salary_class\""
      ]
     },
     "execution_count": 183,
     "metadata": {},
     "output_type": "execute_result"
    }
   ],
   "source": [
    "# cur_feats should be ndarray and salary_class should be int from 0-10\n",
    "def predict_player_base(cur_feats, salary_class) :\n",
    "    x = np.append(cur_feats, salary_class)\n",
    "    x_scaled = scaler.transform((x).reshape(1,-1))\n",
    "    pred = mlp.predict((x_scaled).reshape(1,-1))\n",
    "    tmp = np.zeros((1,X_scaled.shape[1]))\n",
    "    tmp[:,:pred.shape[1]] = pred\n",
    "    pred_unscaled = scaler.inverse_transform(tmp)\n",
    "    return pred_unscaled[:,:pred.shape[1]]\n",
    "\n",
    "def get_player_external(name, year) :\n",
    "    tmp = nba_full.loc[((nba_full[P_NAME] == name) & (nba_full[SZN_START_Y] == year))]\n",
    "    return tmp[orig_feats]\n",
    "\n",
    "cur_feats = get_player_external('Phil Pressey', 2014)\n",
    "cur_salary_class = get_salary_class(cur_feats['inflationAdjSalary'], max, min)\n",
    "\n",
    "print(\"Phil Pressey Stats 2014\")\n",
    "print(cur_feats.to_string(index=False))\n",
    "print(max)\n",
    "print(min)\n",
    "print(cur_salary_class)\n",
    "\n",
    "print(\"Required stats to level up\")\n",
    "print(base_feats)\n",
    "print(predict_player_base(cur_feats.values, 1))\n",
    "print(predict_player_base(cur_feats.values, 5))\n",
    "tmp2 = get_player_external('Phil Pressey', 2015) \n",
    "print(tmp2.to_string(index=False))\n",
    "print(get_salary_class(cur_feats['inflationAdjSalary'], max, min))\n",
    "\n",
    "\n",
    "'''Column Values: \n",
    "    'MP', 'PTS', 'Age', 'games', 'games_started', 'PER', 'FTr', 'AST',\n",
    "       'STL', 'TRB', 'FT', '3P', 'FG', 'height', 'weight',\n",
    "       'inflationAdjSalary', 'startYear', 'all_star_total', 'all_star_enc',\n",
    "       'all_nba_enc', 'all_nba_total', 'draft_pick', 'champion',\n",
    "       'conference_champ', 'mvp', 'mvp_rank', 'mvp_total', 'player_week_enc',\n",
    "       'player_week_total', 'dpoy', 'dpoy_rank', 'dpoy_total',\n",
    "       'future_salary_class'''\n",
    "    "
   ]
  },
  {
   "cell_type": "code",
   "execution_count": null,
   "metadata": {},
   "outputs": [
    {
     "name": "stdout",
     "output_type": "stream",
     "text": [
      "Off by at most this much: [1162.6010485438574, 564.5294819959297, 0.9358547475622839, 36.678941065626624, 44.77237141825249, 5.681788518771645, 0.20083569593628162, 176.79757130821858, 50.42570265081218, 279.9271334943758, 140.38598344515225, 67.25290821346142, 211.85565399097388, 2.097975557900953, 17.64002385748879]\n",
      "[3485.  2832.    40.    85.    83.    45.3    6.   925.   225.  1226.\n",
      "  756.   402.   978.    90.   325. ]\n",
      "[  1.    0.   19.    1.    0.  -40.7   0.    0.    0.    0.    0.    0.\n",
      "   0.   63.  135. ]\n",
      "[[476.1579 496.692 ]\n",
      " [212.2525 222.3542]\n",
      " [  0.3576   0.3772]\n",
      " [ 13.7566  14.3724]\n",
      " [ 18.2243  18.9838]\n",
      " [  2.1591   2.2802]\n",
      " [  0.072    0.0783]\n",
      " [ 56.3487  59.6562]\n",
      " [ 18.633   19.5375]\n",
      " [ 99.8705 104.9828]\n",
      " [ 48.5911  51.2492]\n",
      " [ 21.9521  23.1666]\n",
      " [ 80.2483  84.0312]\n",
      " [  0.7928   0.831 ]\n",
      " [  7.0573   7.3689]]\n",
      "{'column_0': (475.79476645622674, 496.67383016962964), 'column_1': (212.41596990296983, 222.70172029234558), 'column_2': (0.35803130884824563, 0.3767257665685465), 'column_3': (13.760876366711393, 14.350450541466435), 'column_4': (18.25985083662169, 18.982653714292923), 'column_5': (2.16194368301781, 2.276515886020327), 'column_6': (0.07228690505247085, 0.07850881653611261), 'column_7': (56.42384431825786, 59.63269751811651), 'column_8': (18.637464708414942, 19.531274031203957), 'column_9': (100.04943013258044, 104.85566868220226), 'column_10': (48.65462707647754, 51.32500366985124), 'column_11': (21.997164469282435, 23.158852957745914), 'column_12': (80.12407636296908, 84.01731300550834), 'column_13': (0.7917827239438554, 0.8306204099297747), 'column_14': (7.057568917333044, 7.352953130176186)}\n",
      "HELLO\n",
      "[1017.7252  451.7522    0.6491   36.6789   35.6219    4.6071    0.1387\n",
      "  121.1894   36.891   215.9959   96.3966   42.129   167.0021    1.6828\n",
      "   13.9798]\n"
     ]
    }
   ],
   "source": [
    "# Compute the confidence interval of each of the features\n",
    "from common import *\n",
    "\n",
    "# Get the unscaled predictions\n",
    "predict_full = mlp.predict(X_scaled)\n",
    "tmp = np.zeros(X_scaled.shape)\n",
    "tmp[:,:predict_full.shape[1]] = predict_full\n",
    "predicted_unscaled_vals = scaler.inverse_transform(tmp)\n",
    "predicted_unscaled_vals = predicted_unscaled_vals[:,:predict_full.shape[1]]\n",
    "\n",
    "# compute the RMSE for each feature in the output vector\n",
    "actual_unscaled_vals = y[base_feats].values\n",
    "rmse = np.sqrt(np.square(predicted_unscaled_vals - actual_unscaled_vals))\n",
    "\n",
    "# compute the percentilse of the RMSE to get the confidence interval of each predicted feature\n",
    "ci_up = np.percentile(rmse, 95, axis=0) # 95th percentile\n",
    "ci_low = np.percentile(rmse, 5, axis=0) # 5th percentile\n",
    "print(\"Off by at most this much:\", ci_up.flatten().tolist())\n",
    "print(np.max(actual_unscaled_vals, axis=0))\n",
    "print(np.min(actual_unscaled_vals, axis=0)) \n",
    "# print(ci_low.flatten().tolist()) \n",
    "\n",
    "# TODO: validate these findings with the very basic network to see if it predicts that these stats will land us in our desired class\n",
    "np.set_printoptions(suppress=True, precision=4)\n",
    "print(confidence_interval_numpy(predicted_unscaled_vals, actual_unscaled_vals)) # requires the assumption of gaussianity, but seems to be working?\n",
    "\n",
    "\n",
    "print(bootstrap_confidence_interval(predicted_unscaled_vals, actual_unscaled_vals)) # should be able to work without the assumption of gaussianity\n",
    "# computing for rmse, so says that the true root mean squared error has a 95% of landing in these intervals\n",
    "# residuals are likely far smaller because you have the negatives balancing things out so it is going to be less accurate for computing the confidence interval\n",
    "\n",
    "residuals = predicted_unscaled_vals - actual_unscaled_vals\n",
    "ci = np.quantile(residuals, 1 - 0.05, axis=0)\n",
    "print(\"HELLO\")\n",
    "print(ci)\n",
    "\n",
    "# I want to say that my prediction is between these 2 bounds with 95% confidence\n",
    "# The two functions I provided seem to find the rmse of each parameter with 95% confidence\n",
    "# the first and 4th method I try do not scale the mean of the data and therefore, I don't think they necessarily apply to giving me the confidence interval I desire\n",
    "\n",
    "\n",
    "\n",
    "# DO A CASE STUDY on an individual\n",
    "# ANALYZE THIS MODEL ON BASELINE AND EXTERNAL\n",
    "\n",
    "\n"
   ]
  },
  {
   "cell_type": "code",
   "execution_count": null,
   "metadata": {},
   "outputs": [],
   "source": [
    "# from sklearn.ensemble import RandomForestRegressor \n",
    "# random_forest_model = RandomForestRegressor(n_estimators = 60, random_state = 0)\n",
    "\n",
    "# random_forest_model.fit(X_train, y_train) \n",
    "\n",
    "# y_pred = random_forest_model.predict(X_test)\n",
    "\n",
    "# mse = mean_squared_error(y_test, y_pred)\n",
    "# rmse = np.sqrt(mean_squared_error(y_test, y_pred))\n",
    "# print(\"MSE: \",mse)\n",
    "# print(\"RMSE: \",rmse)\n"
   ]
  }
 ],
 "metadata": {
  "kernelspec": {
   "display_name": "Python 3",
   "language": "python",
   "name": "python3"
  },
  "language_info": {
   "codemirror_mode": {
    "name": "ipython",
    "version": 3
   },
   "file_extension": ".py",
   "mimetype": "text/x-python",
   "name": "python",
   "nbconvert_exporter": "python",
   "pygments_lexer": "ipython3",
   "version": "3.10.11"
  },
  "orig_nbformat": 4
 },
 "nbformat": 4,
 "nbformat_minor": 2
}
