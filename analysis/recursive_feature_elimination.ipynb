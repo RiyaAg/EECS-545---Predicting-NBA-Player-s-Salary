{
 "cells": [
  {
   "cell_type": "code",
   "execution_count": null,
   "metadata": {},
   "outputs": [],
   "source": [
    "# Setup autoreload\n",
    "%load_ext autoreload\n",
    "%autoreload 2\n",
    "\n",
    "# Give yourself access to common\n",
    "import os\n",
    "import sys\n",
    "module_path = os.path.abspath(os.path.join('..'))\n",
    "if module_path not in sys.path:\n",
    "    sys.path.append(module_path)\n",
    "\n",
    "from common import *\n",
    "\n",
    "import numpy as np\n",
    "from sklearn.feature_selection import RFE\n",
    "from sklearn.linear_model import LinearRegression\n",
    "\n",
    "def perform_rfe(X, y, n_features_to_select=1):\n",
    "    \"\"\"\n",
    "    Performs Recursive Feature Elimination and ranks the features.\n",
    "    \n",
    "    Parameters:\n",
    "    X (numpy.ndarray): A numpy array containing data points.\n",
    "    y (numpy.ndarray): A numpy array containing target values.\n",
    "    n_features_to_select (int): The number of features to select, default is 1.\n",
    "    \n",
    "    Returns:\n",
    "    list: A list containing tuples with feature index and corresponding rank.\n",
    "    \"\"\"\n",
    "    # Initialize the estimator, in this case, a linear regression model\n",
    "    estimator = LinearRegression()\n",
    "\n",
    "    # Create an RFE object with the specified estimator and number of features to select\n",
    "    rfe = RFE(estimator, n_features_to_select=n_features_to_select, step=1)\n",
    "\n",
    "    # Fit the RFE object to the data\n",
    "    rfe.fit(X, y)\n",
    "\n",
    "    # Get feature rankings\n",
    "    feature_rankings = list(enumerate(rfe.ranking_))\n",
    "\n",
    "    # Sort the features based on their rank\n",
    "    sorted_features = sorted(feature_rankings, key=lambda x: x[1])\n",
    "\n",
    "    return sorted_features\n",
    "\n",
    "\n"
   ]
  }
 ],
 "metadata": {
  "language_info": {
   "name": "python"
  },
  "orig_nbformat": 4
 },
 "nbformat": 4,
 "nbformat_minor": 2
}
